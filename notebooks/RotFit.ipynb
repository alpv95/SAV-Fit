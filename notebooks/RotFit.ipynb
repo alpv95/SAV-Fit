{
 "cells": [
  {
   "cell_type": "code",
   "execution_count": 1,
   "metadata": {
    "collapsed": true
   },
   "outputs": [],
   "source": [
    "import numpy as np\n",
    "import matplotlib.pyplot as plt\n",
    "import math\n",
    "import itertools\n",
    "#import multiprocess as mp\n",
    "from scipy.optimize import minimize\n",
    "from scipy.optimize import lsq_linear\n",
    "import pandas as pd\n",
    "import os\n",
    "from scipy import stats\n",
    "import json\n",
    "\n",
    "from numpy import pi, cos \n",
    "from pymultinest.solve import solve\n",
    "from pymultinest.run import run\n",
    "from pymultinest import Analyzer\n",
    "import pymultinest\n",
    "\n",
    "%matplotlib inline"
   ]
  },
  {
   "cell_type": "markdown",
   "metadata": {},
   "source": [
    "# PyMultiNest nested sampling to find likelihood function minima"
   ]
  },
  {
   "cell_type": "code",
   "execution_count": 49,
   "metadata": {
    "collapsed": true
   },
   "outputs": [],
   "source": [
    "try: os.mkdir('chains')\n",
    "except OSError: pass\n",
    "\n",
    "delta = 1.0\n",
    "delta1 = 0.001\n",
    "delta2 = 0.001\n",
    "\n",
    "datum = data[2]\n",
    "Day = datum[:,0]\n",
    "Flux = datum[:,5]; Flux_err = datum[:,6]\n",
    "PA = datum[:,3]; PA_err = datum[:,4]\n",
    "Pi = datum[:,1] / 100; Pi_err = datum[:,2] / 100\n",
    "deg = abs(max(PA) - min(PA)) / abs(max(Day) - min(Day))\n",
    "\n",
    "def myprior(cube, ndim, nparams):\n",
    "    #ratio, ratio_range, pitch, offset, sign, deg = X\n",
    "    cube[0] *= 2 #ratio\n",
    "    cube[2] = cube[2]*8 - 4 #pitch\n",
    "    cube[3] = cube[3]*360 - 180 #offset\n",
    "    cube[4] = cube[4] * (-deg*0.9 + deg*1.1) + deg*0.9 #deg\n",
    "    cube[5] = cube[5] * 180 #axis\n",
    "    cube[6] = 10**(cube[6]*2 - 7)  #flux_scale\n",
    "    cube[7] = cube[7] * 200 - 100 #flux_offset\n",
    "    cube[8] = cube[8] * 0.7 #pi_offset\n",
    "\n",
    "    return cube\n",
    "\n",
    "# def myloglike(cube):\n",
    "#         chi = (cos(cube / 2.)).prod()\n",
    "#         return (2. + chi)**5\n",
    "    \n",
    "def myloglike(cube, ndim, nparams):\n",
    "    ratio, ratio_range, pitch, offset, deg, axis, flux_scale, flux_offset, pi_offset = cube[0], cube[1], cube[2], cube[3], cube[4], cube[5], cube[6], cube[7], cube[8]\n",
    "    pi_hat, pa_hat, p_hat = Jet(Day, ratio, ratio_range, pitch, offset, deg=deg, axis=axis, sign=-1, alpha=2, Gamma=10)\n",
    "    \n",
    "    loss_pa = np.sum( (np.cos(2*np.deg2rad(PA)) - np.cos(2*np.deg2rad(pa_hat)))**2 / PA_err**2\n",
    "                      + (np.sin(2*np.deg2rad(PA)) - np.sin(2*np.deg2rad(pa_hat)))**2 / PA_err**2 )\n",
    "    loss_flux = np.sum( (Flux - (p_hat * flux_scale + flux_offset) )**2 / Flux_err**2 )\n",
    "    loss_pi = np.sum((Pi - (pi_hat - pi_offset) )**2 / Pi_err**2)\n",
    "    return delta * loss_pa + delta1 * loss_flux + delta2 * loss_pi \n",
    "\n",
    "# number of dimensions our problem has\n",
    "parameters = [\"ratio\", \"ratio_range\", \"pitch\", \"offset\", \"deg\", \"axis\", \"flux_scale\", \"flux_offset\", \"pi_offset\"]\n",
    "n_params = len(parameters)\n",
    "# name of the output files\n",
    "prefix = \"chains/3-\"\n",
    "\n",
    "# run MultiNest\n",
    "run(LogLikelihood=myloglike, Prior=myprior, \n",
    "        n_dims=n_params, init_MPI=True, outputfiles_basename=prefix, \n",
    "               verbose=True, max_iter=200, resume=False)\n",
    "\n",
    "# print()\n",
    "# print('evidence: %(logZ).1f +- %(logZerr).1f' % result)\n",
    "# print()\n",
    "# print('parameter values:')\n",
    "# for name, col in zip(parameters, result['samples'].transpose()):\n",
    "#         print('%15s : %.3f +- %.3f' % (name, col.mean(), col.std()))\n",
    "\n",
    "# make marginal plots by running:\n",
    "# $ python multinest_marginals.py chains/3-\n",
    "# For that, we need to store the parameter names:\n",
    "# import json\n",
    "# with open('%sparams.json' % prefix, 'w') as f:\n",
    "#         json.dump(parameters, f, indent=2)"
   ]
  },
  {
   "cell_type": "code",
   "execution_count": 50,
   "metadata": {},
   "outputs": [
    {
     "name": "stdout",
     "output_type": "stream",
     "text": [
      "  analysing data from chains/3-.txt\n"
     ]
    }
   ],
   "source": [
    "#plt.figure() \n",
    "a = Analyzer(outputfiles_basename=prefix, n_params = n_params)\n",
    "# for (pos1, width, height1) in a.get_equal_weighted_posterior()[::100,:-1]:\n",
    "# \tplt.plot(x, model(pos1, width, height1, 0), '-', color='blue', alpha=0.3, label='data')"
   ]
  },
  {
   "cell_type": "code",
   "execution_count": 29,
   "metadata": {
    "collapsed": true
   },
   "outputs": [],
   "source": [
    "result = a.get_equal_weighted_posterior()[:,:-1]"
   ]
  },
  {
   "cell_type": "code",
   "execution_count": 51,
   "metadata": {},
   "outputs": [
    {
     "data": {
      "text/plain": [
       "array([[ 5.28220892e-01,  7.06326365e-02, -3.66515017e+00,\n",
       "        -1.19926264e+02,  8.65406719e+00,  5.17180538e+01,\n",
       "         7.95955305e-06,  9.42347050e+01,  2.12882251e-01,\n",
       "         5.79558795e+06]])"
      ]
     },
     "execution_count": 51,
     "metadata": {},
     "output_type": "execute_result"
    }
   ],
   "source": [
    "a.get_equal_weighted_posterior()"
   ]
  },
  {
   "cell_type": "code",
   "execution_count": 30,
   "metadata": {},
   "outputs": [
    {
     "data": {
      "text/plain": [
       "-2662783.7119302256"
      ]
     },
     "execution_count": 30,
     "metadata": {},
     "output_type": "execute_result"
    }
   ],
   "source": [
    "loglike(prior(np.random.uniform(0,1,9),5,1),5,1)"
   ]
  },
  {
   "cell_type": "code",
   "execution_count": 7,
   "metadata": {},
   "outputs": [
    {
     "name": "stdout",
     "output_type": "stream",
     "text": [
      "  analysing data from TEST_1_.txt\n"
     ]
    }
   ],
   "source": [
    "x = np.linspace(0, 1, 400)\n",
    "ydata = np.random.uniform(0,5,400) # loaded below\n",
    "\n",
    "noise = 0.1\n",
    "\n",
    "delta = 1.0\n",
    "delta1 = 0.001\n",
    "delta2 = 0.001\n",
    "\n",
    "datum = data[2]\n",
    "Day = datum[:,0]\n",
    "Flux = datum[:,5]; Flux_err = datum[:,6]\n",
    "PA = datum[:,3]; PA_err = datum[:,4]\n",
    "Pi = datum[:,1] / 100; Pi_err = datum[:,2] / 100\n",
    "deg = abs(max(PA) - min(PA)) / abs(max(Day) - min(Day))\n",
    "\n",
    "# model for 2 gaussians, same width, fixed offset\n",
    "def model(pos1, width, height1, height2):\n",
    "\tpos2 = pos1 + 0.05\n",
    "\treturn  height1 * stats.norm.pdf(x, pos1, width) + \\\n",
    "\t\theight2 * stats.norm.pdf(x, pos2, width)\n",
    "\n",
    "# a more elaborate prior\n",
    "# parameters are pos1, width, height1, [height2]\n",
    "def prior(cube, ndim, nparams):\n",
    "    #ratio, ratio_range, pitch, offset, sign, deg = X\n",
    "    cube[0] *= 2 #ratio\n",
    "    cube[2] = cube[2]*8 - 4 #pitch\n",
    "    cube[3] = cube[3]*360 - 180 #offset\n",
    "    cube[4] = cube[4] * (-deg*0.9 + deg*1.1) + deg*0.9 #deg\n",
    "    cube[5] = cube[5] * 180 #axis\n",
    "    cube[6] = 10**(cube[6]*2 - 7)  #flux_scale\n",
    "    cube[7] = cube[7] * 200 - 100 #flux_offset\n",
    "    cube[8] = cube[8] * 0.7 #pi_offset\n",
    "    return cube\n",
    "\n",
    "\n",
    "def loglike(cube, ndim, nparams):\n",
    "    ratio, ratio_range, pitch, offset, deg, axis, flux_scale, flux_offset, pi_offset = cube[0], cube[1], cube[2], cube[3], cube[4], cube[5], cube[6], cube[7], cube[8]\n",
    "    pi_hat, pa_hat, p_hat = Jet(Day, ratio, ratio_range, pitch, offset, deg=deg, axis=axis, sign=-1, alpha=2, Gamma=10)\n",
    "    \n",
    "    loss_pa = np.sum( (np.cos(2*np.deg2rad(PA)) - np.cos(2*np.deg2rad(pa_hat)))**2 / PA_err**2\n",
    "                      + (np.sin(2*np.deg2rad(PA)) - np.sin(2*np.deg2rad(pa_hat)))**2 / PA_err**2 )\n",
    "    loss_flux = np.sum( (Flux - (p_hat * flux_scale + flux_offset) )**2 / Flux_err**2 )\n",
    "    loss_pi = np.sum((Pi - (pi_hat - pi_offset) )**2 / Pi_err**2)\n",
    "    return -(delta * loss_pa + delta1 * loss_flux + delta2 * loss_pi) \n",
    "\n",
    "# analyse the file given as first argument\n",
    "datafile = \"TEST\"\n",
    "\n",
    "# analyse with 1 gaussian\n",
    "\n",
    "# number of dimensions our problem has\n",
    "parameters = [\"ratio\", \"ratio_range\", \"pitch\", \"offset\", \"deg\", \"axis\", \"flux_scale\", \"flux_offset\", \"pi_offset\"]\n",
    "n_params = len(parameters)\n",
    "\n",
    "# run MultiNest\n",
    "pymultinest.run(loglike, prior, n_params, outputfiles_basename=datafile + '_1_', resume = False, verbose = True, \n",
    "                const_efficiency_mode=True, n_live_points=600, evidence_tolerance=1.0, sampling_efficiency=0.8,\n",
    "               init_MPI=True)\n",
    "json.dump(parameters, open(datafile + '_1_params.json', 'w')) # save parameter names\n",
    "\n",
    "# plot the distribution of a posteriori possible models\n",
    "#plt.figure() \n",
    "#plt.plot(x, ydata, '+ ', color='red', label='data')\n",
    "a = pymultinest.Analyzer(outputfiles_basename=datafile + '_1_', n_params = n_params)\n",
    "# for (pos1, width, height1) in a.get_equal_weighted_posterior()[::100,:-1]:\n",
    "# \tplt.plot(x, model(pos1, width, height1, 0), '-', color='blue', alpha=0.3, label='data')"
   ]
  },
  {
   "cell_type": "code",
   "execution_count": 11,
   "metadata": {},
   "outputs": [
    {
     "name": "stdout",
     "output_type": "stream",
     "text": [
      "  analysing data from /home/users/alpv95/khome/Rotations/chains/3-_1_.txt\n"
     ]
    }
   ],
   "source": [
    "filename = \"/home/users/alpv95/khome/Rotations/chains/3-\"\n",
    "a = pymultinest.Analyzer(outputfiles_basename=filename + '_1_', n_params = 5)"
   ]
  },
  {
   "cell_type": "code",
   "execution_count": 12,
   "metadata": {},
   "outputs": [
    {
     "data": {
      "text/plain": [
       "8828"
      ]
     },
     "execution_count": 12,
     "metadata": {},
     "output_type": "execute_result"
    }
   ],
   "source": [
    "len(a.get_equal_weighted_posterior())"
   ]
  },
  {
   "cell_type": "code",
   "execution_count": 13,
   "metadata": {},
   "outputs": [
    {
     "data": {
      "text/plain": [
       "{u'log_likelihood': -4.1724167484727595,\n",
       " u'parameters': [1.3676079106466434,\n",
       "  0.8295662830015478,\n",
       "  -0.011784336136741125,\n",
       "  22.41766293722361,\n",
       "  8.444386129542318]}"
      ]
     },
     "execution_count": 13,
     "metadata": {},
     "output_type": "execute_result"
    }
   ],
   "source": [
    "a.get_best_fit()"
   ]
  },
  {
   "cell_type": "code",
   "execution_count": 13,
   "metadata": {},
   "outputs": [
    {
     "name": "stdout",
     "output_type": "stream",
     "text": [
      "[ 1.33603883e+00  8.21276177e-01 -2.45785136e+00 -5.98518693e+01\n",
      "  8.87235323e+00  1.36550487e+01  6.88961295e-07  2.74081651e-02\n",
      "  4.77461254e-01 -1.97544717e+01]\n"
     ]
    }
   ],
   "source": [
    "result = a.get_equal_weighted_posterior()[0,:]\n",
    "print(result)"
   ]
  },
  {
   "cell_type": "code",
   "execution_count": 14,
   "metadata": {
    "collapsed": true
   },
   "outputs": [],
   "source": [
    "result = a.get_best_fit()['parameters']"
   ]
  },
  {
   "cell_type": "code",
   "execution_count": 24,
   "metadata": {},
   "outputs": [
    {
     "name": "stderr",
     "output_type": "stream",
     "text": [
      "/share/software/user/open/py-jupyter/1.0.0_py27/lib/python2.7/site-packages/ipykernel_launcher.py:24: FutureWarning: `rcond` parameter will change to the default of machine precision times ``max(M, N)`` where M and N are the input matrix dimensions.\n",
      "To use the future default and silence this warning we advise to pass `rcond=None`, to keep using the old, explicitly pass `rcond=-1`.\n",
      "/share/software/user/open/py-jupyter/1.0.0_py27/lib/python2.7/site-packages/ipykernel_launcher.py:32: FutureWarning: `rcond` parameter will change to the default of machine precision times ``max(M, N)`` where M and N are the input matrix dimensions.\n",
      "To use the future default and silence this warning we advise to pass `rcond=None`, to keep using the old, explicitly pass `rcond=-1`.\n"
     ]
    },
    {
     "data": {
      "text/plain": [
       "<ErrorbarContainer object of 3 artists>"
      ]
     },
     "execution_count": 24,
     "metadata": {},
     "output_type": "execute_result"
    },
    {
     "data": {
      "image/png": "[encoded data removed]",
      "text/plain": [
       "<Figure size 936x288 with 3 Axes>"
      ]
     },
     "metadata": {},
     "output_type": "display_data"
    }
   ],
   "source": [
    "delta = 1.0\n",
    "delta1 = 0.001\n",
    "delta2 = 0.001\n",
    "\n",
    "datum = data[2]\n",
    "Day = datum[:,0]\n",
    "Flux = datum[:,5]; Flux_err = datum[:,6]\n",
    "PA = datum[:,3]; PA_err = datum[:,4]\n",
    "Pi = datum[:,1] / 100; Pi_err = datum[:,2] / 100\n",
    "deg = abs(max(PA) - min(PA)) / abs(max(Day) - min(Day))\n",
    "\n",
    "i=2\n",
    "plt.figure(figsize=(13,4))\n",
    "x0 = list(result)\n",
    "x = np.linspace(Day[0],Day[-1],100)\n",
    "pi_hat, pa_hat, p_hat = Jet(Day, x0[0], x0[1], pitch=x0[2], offset=x0[3], deg=x0[4], sign=-1, alpha=2, Gamma=10)\n",
    "\n",
    "b = np.ndarray.flatten(np.array([(np.cos(2*np.deg2rad(pa)),np.sin(2*np.deg2rad(pa))) for pa in PA]))\n",
    "A = np.concatenate([np.array([[np.cos(2*np.deg2rad(pa)),-np.sin(2*np.deg2rad(pa))],\n",
    "                    [np.sin(2*np.deg2rad(pa)),np.cos(2*np.deg2rad(pa))]]) for pa in pa_hat],axis=0)\n",
    "\n",
    "w = np.ndarray.flatten(np.array([(err*2*np.sin(2*np.deg2rad(pa)),err*2*np.cos(2*np.deg2rad(pa))) for pa, err in zip(PA,PA_err)]))\n",
    "w = np.diag(1 / w) #weighted least squares\n",
    "X, loss_pa, _, _ = np.linalg.lstsq(np.matmul(w,A),np.matmul(w,b))\n",
    "axis = np.arctan2(X[1],X[0]) / 2\n",
    "#loss_pa = np.sum(abs(np.cos(2*np.deg2rad(PA)) - np.cos(2*np.deg2rad(pa_hat))) / PA_err\n",
    "              #+ abs(np.sin(2*np.deg2rad(PA)) - np.sin(2*np.deg2rad(pa_hat))) / PA_err )\n",
    "\n",
    "A = np.concatenate([np.array([[p,1]]) for p in p_hat],axis=0)\n",
    "w = np.diag(1 / Flux_err)\n",
    "b = Flux\n",
    "flux_scale, loss_flux, _, _ = np.linalg.lstsq(np.matmul(w,A),np.matmul(w,b))\n",
    "\n",
    "A = np.concatenate([np.array([[pi,1]]) for pi in pi_hat],axis=0)\n",
    "w = np.diag(1 / Pi_err)\n",
    "b = Pi\n",
    "res = lsq_linear(np.matmul(w,A), np.matmul(w,b), bounds=[(0.99,-np.inf),(1.01, np.inf)])\n",
    "pi_offset = res['x'][1]\n",
    "\n",
    "\n",
    "pi_hat, pa_hat, p_hat = Jet(x, x0[0], x0[1], pitch=x0[2], offset=x0[3], deg=x0[4], sign=-1, axis=np.rad2deg(axis), alpha=2, Gamma=10)\n",
    "\n",
    "plt.subplot(1, 3, 1  ) \n",
    "plt.title(blazars[i].replace(\".dat\",\"\"))\n",
    "plt.ylabel(r\"$\\Pi$\")\n",
    "plt.plot(x,pi_hat + pi_offset)\n",
    "plt.errorbar(Day,Pi,yerr=Pi_err,c='r',fmt='o')\n",
    "\n",
    "plt.subplot(1,3, 2)\n",
    "# try:\n",
    "#     plt.title(\"Axis: {:.1f}, {:.1f}\".format(float(measured.loc[:,' PA'][i]),x0[6]))\n",
    "# except: #ValueError:\n",
    "#     plt.title(\"Axis: None, {:.1f}\".format(x0[5]))\n",
    "plt.ylabel(r\"$\\theta_{PA}$\")\n",
    "plt.plot(x,pa_hat)\n",
    "plt.plot(x,pa_hat-180)\n",
    "plt.plot(x,pa_hat+180)\n",
    "plt.plot(x,pa_hat-360)\n",
    "plt.plot(x,pa_hat+360)\n",
    "plt.plot(x,pa_hat-540)\n",
    "plt.plot(x,pa_hat+540)\n",
    "plt.ylim(min(PA) - 20, max(PA) + 20)\n",
    "plt.errorbar(Day,PA,yerr=PA_err,c='r',fmt='o')\n",
    "\n",
    "plt.subplot(1,3, 3)\n",
    "# try:\n",
    "#     plt.title(r\"$\\Gamma\\theta$: {:.1f}, {:.1f}\".format(float(measured.loc[:,' gamma'][i]) * \n",
    "#                                       np.deg2rad(float(measured.loc[:,' theta'][i])) , x0[0]))\n",
    "# except:\n",
    "#     plt.title(\"$\\Gamma\\theta$: None, {:.1f}\".format(x0[0]))\n",
    "plt.ylabel(r\"$Flux$\")\n",
    "plt.plot(x, p_hat * flux_scale[0] + flux_scale[1])\n",
    "plt.errorbar(Day,Flux,yerr=Flux_err,c='r',fmt='o')"
   ]
  },
  {
   "cell_type": "code",
   "execution_count": 25,
   "metadata": {},
   "outputs": [
    {
     "name": "stdout",
     "output_type": "stream",
     "text": [
      "85.5928059718673\n"
     ]
    }
   ],
   "source": [
    "print(np.rad2deg(axis))"
   ]
  },
  {
   "cell_type": "code",
   "execution_count": 2,
   "metadata": {
    "collapsed": true
   },
   "outputs": [],
   "source": [
    "def Rot(phi): \n",
    "    return np.array([[math.cos(phi),0,math.sin(phi)],[0,1,0],[-math.sin(phi),0,math.cos(phi)]])\n",
    "def RotX(phi): \n",
    "    return np.array([[1,0,0],[0,math.cos(phi),-math.sin(phi)],[0,math.sin(phi),math.cos(phi)]])\n",
    "def Bhelix(phase, slope, sign):\n",
    "    h = np.array([sign * np.cos(phase), np.sin(phase), np.ones_like(phase) * slope])\n",
    "    return h / np.linalg.norm(h,axis=0)\n",
    "def flux_weight(angle, alpha):\n",
    "    \"\"\"Takes angle of B-field to our line of sight and returns the relative weighted flux\"\"\"\n",
    "    return np.sin(angle)**((alpha + 1)/2)\n",
    "def get_perp(vector2d):\n",
    "    return np.array(vector2d[1],-vector2d[0])\n",
    "\n",
    "D = lambda Gamma, theta: 1 / (Gamma * (1 - np.sqrt(1-1/Gamma**2)*np.cos(np.deg2rad(theta))))\n",
    "Dapprox = lambda Gamma, ratio: 2 * Gamma / (1 + ratio**2)"
   ]
  },
  {
   "cell_type": "code",
   "execution_count": 3,
   "metadata": {
    "collapsed": true
   },
   "outputs": [],
   "source": [
    "def pcircle(R, a, N ):\n",
    "    \"\"\"Generate N coordinates on a circle of radius a at r=R,phi=0\"\"\"\n",
    "    theta = np.linspace(-np.arctan2(a,R),np.arctan2(a,R), int(N/2))\n",
    "    r_pos = R*np.cos(theta) + np.sqrt(a**2 - R**2 * np.sin(theta)**2)\n",
    "    r_min = R*np.cos(theta) - np.sqrt(a**2 - R**2 * np.sin(theta)**2)\n",
    "    r = np.concatenate([r_pos,r_min])\n",
    "    th = np.concatenate([theta,theta])\n",
    "    return np.array([r,th])"
   ]
  },
  {
   "cell_type": "code",
   "execution_count": 4,
   "metadata": {
    "collapsed": true
   },
   "outputs": [],
   "source": [
    "def rotate(th, B, axis): #about arbitrary axis\n",
    "    #axis[] = axis / np.linalg.norm(axis)\n",
    "    B1 = (- axis[:,:,0] * (-axis[:,:,0]*B[:,:,0] - axis[:,:,1]*B[:,:,1] - axis[:,:,2]*B[:,:,2])) * (1 - np.cos(th)) + B[:,:,0]*np.cos(th) \\\n",
    "    + (-axis[:,:,2]*B[:,:,1] + axis[:,:,1]*B[:,:,2]) * np.sin(th)\n",
    "    B2 = (- axis[:,:,1] * (-axis[:,:,0]*B[:,:,0] - axis[:,:,1]*B[:,:,1] - axis[:,:,2]*B[:,:,2])) * (1 - np.cos(th)) + B[:,:,1]*np.cos(th) \\\n",
    "    + (axis[:,:,2]*B[:,:,0] - axis[:,:,0]*B[:,:,2]) * np.sin(th)\n",
    "    B3 = (- axis[:,:,2] * (-axis[:,:,0]*B[:,:,0] - axis[:,:,1]*B[:,:,1] - axis[:,:,2]*B[:,:,2])) * (1 - np.cos(th)) + B[:,:,2]*np.cos(th) \\\n",
    "    + (-axis[:,:,1]*B[:,:,0] + axis[:,:,0]*B[:,:,1]) * np.sin(th)\n",
    "    return np.stack([B1,B2,B3],axis=2)"
   ]
  },
  {
   "cell_type": "code",
   "execution_count": 5,
   "metadata": {
    "collapsed": true
   },
   "outputs": [],
   "source": [
    "def Jet(day, ratio, ratio_range, pitch, offset, deg, axis=0, sign=-1, alpha=2, Gamma=10):\n",
    "    \"\"\"Helical jet of jets\n",
    "    \n",
    "    Args:\n",
    "        day: \n",
    "        ratio: Gamma*theta of the jet centre.\n",
    "        ratio_range: Opening angle of the jet.\n",
    "        pitch: Magnetic Helix pitch angle.\n",
    "        offset: In degrees. (NOT a 'physical' parameter)\n",
    "        deg: Conversion from day to degrees. (NOT a 'physical' parameter)\n",
    "        alpha: electron power law.\n",
    "      \n",
    "    Returns:\n",
    "        Pi:\n",
    "        PA:\n",
    "        P:\n",
    "    \n",
    "    Raises:\n",
    "        ValueError: Opening angle of jet too large.\n",
    "    \"\"\"\n",
    "    if ratio_range > 1:\n",
    "        raise ValueError(\"Jet opening angle can't be greater than 1/Gamma in Lab frame\")\n",
    "        \n",
    "    day = day - np.min(day)\n",
    "    B_orig = Bhelix((day*deg + offset) * np.pi/180, pitch, sign)\n",
    "    #Build jet of jets in multiple circles:\n",
    "    coords = np.concatenate([pcircle(ratio, ratio_range, 30),pcircle(ratio, 5*ratio_range/6, 24), \n",
    "                             pcircle(ratio, 4*ratio_range/6, 18), pcircle(ratio, 3*ratio_range/6, 12),\n",
    "                             pcircle(ratio, 2*ratio_range/6, 6), pcircle(ratio, 1*ratio_range/6, 2)],axis=1)\n",
    "    #coords = np.expand_dims(np.array([ratio,0]),axis=1)\n",
    "    theta_rot = np.arccos((1 - coords[0,:]**2) / (1 + coords[0,:]**2))\n",
    "    x0,y0 = np.meshgrid(np.transpose(B_orig)[:,0],np.stack([-np.sin(coords[1,:]),np.cos(coords[1,:]),np.zeros(len(coords[1,:]))],axis=1)[:,0])\n",
    "    x1,y1 = np.meshgrid(np.transpose(B_orig)[:,1],np.stack([-np.sin(coords[1,:]),np.cos(coords[1,:]),np.zeros(len(coords[1,:]))],axis=1)[:,1])\n",
    "    x2,y2 = np.meshgrid(np.transpose(B_orig)[:,2],np.stack([-np.sin(coords[1,:]),np.cos(coords[1,:]),np.zeros(len(coords[1,:]))],axis=1)[:,2])\n",
    "    _, th = np.meshgrid(np.transpose(B_orig)[:,2], theta_rot)\n",
    "    B_mesh = np.stack([x0,x1,x2],axis=2)\n",
    "    axis_mesh = np.stack([y0,y1,y2],axis=2)\n",
    "    \n",
    "    B = rotate(th, B_mesh, axis_mesh)\n",
    "    #B shape = (coords,days,3)\n",
    "    Btheta = np.arctan2(np.sqrt(np.sum(B[:,:,:2]**2,axis=2)), B[:,:,2])\n",
    "    weights = (Dapprox(Gamma,coords[0,:])**4 * flux_weight(Btheta, alpha).T).T #broadcast\n",
    "    \n",
    "    vec = B[:,:,:2][:,:,::-1]\n",
    "    vec[:,:,1] *= -1\n",
    "    PA = np.arctan2(vec[:,:,1],vec[:,:,0])\n",
    "    S1 = np.sum(weights * np.cos(2 * PA),axis=0)\n",
    "    S2 = np.sum(weights * np.sin(2 * PA),axis=0)\n",
    "    Pi = np.sqrt((0.7*S1)**2 + (0.7*S2)**2) / np.sum(weights,axis=0)\n",
    "    PA = np.rad2deg(np.arctan2(S2,S1) / 2 ) + axis\n",
    "    P = np.sum(weights, axis=0)\n",
    "    \n",
    "    return Pi, PA, P"
   ]
  },
  {
   "cell_type": "code",
   "execution_count": 7,
   "metadata": {},
   "outputs": [
    {
     "data": {
      "text/plain": [
       "'good ones:'"
      ]
     },
     "execution_count": 7,
     "metadata": {},
     "output_type": "execute_result"
    }
   ],
   "source": [
    "blazars = ['RBPLJ01364751.dat',\n",
    " 'RBPLJ08542006.dat',\n",
    " 'RBPLJ10487143.dat',\n",
    " 'RBPLJ15585625.dat',\n",
    " 'RBPLJ17510939_1.dat',\n",
    " 'RBPLJ17510939_2.dat',\n",
    " 'RBPLJ18066949.dat',\n",
    " 'RBPLJ18092041.dat',\n",
    " 'RBPLJ22321143.dat',\n",
    " 'RBPLJ23113425.dat']\n",
    "data = []\n",
    "for blazar in blazars:\n",
    "    data.append(np.loadtxt(\"/home/groups/rwr/alpv95/Rotations/data/\" + blazar))\n",
    "\n",
    "measured = pd.read_csv(\"/home/groups/rwr/alpv95/Rotations/data/sample.txt\")\n",
    "    \n",
    "'''good ones:'''\n",
    "#RBPLJ08542006.dat yeyeye (but this and below the axis predictions seeem off)\n",
    "#RBPLJ10487143.dat yeyeye\n",
    "#RBPLJ17510939_2.dat  --> these two share similar parameters\n",
    "#RBPLJ17510939_1.dat\n",
    "#RBPLJ23113425.dat\n",
    "\n",
    "#RBPLJ18092041.dat\n",
    "#RBPLJ17510939_1.dat"
   ]
  },
  {
   "cell_type": "code",
   "execution_count": 7,
   "metadata": {
    "collapsed": true
   },
   "outputs": [],
   "source": [
    "line = pd.DataFrame(dict(measured.loc[4,:]), index=[4.5])\n",
    "measured = measured.append(line, ignore_index=False)\n",
    "measured = measured.sort_index().reset_index(drop=True)"
   ]
  },
  {
   "cell_type": "code",
   "execution_count": 8,
   "metadata": {},
   "outputs": [
    {
     "data": {
      "text/html": [
       "<div>\n",
       "<style scoped>\n",
       "    .dataframe tbody tr th:only-of-type {\n",
       "        vertical-align: middle;\n",
       "    }\n",
       "\n",
       "    .dataframe tbody tr th {\n",
       "        vertical-align: top;\n",
       "    }\n",
       "\n",
       "    .dataframe thead th {\n",
       "        text-align: right;\n",
       "    }\n",
       "</style>\n",
       "<table border=\"1\" class=\"dataframe\">\n",
       "  <thead>\n",
       "    <tr style=\"text-align: right;\">\n",
       "      <th></th>\n",
       "      <th>#name</th>\n",
       "      <th>altname</th>\n",
       "      <th>PA</th>\n",
       "      <th>OA</th>\n",
       "      <th>class</th>\n",
       "      <th>z</th>\n",
       "      <th>beta</th>\n",
       "      <th>doppler</th>\n",
       "      <th>gamma</th>\n",
       "      <th>theta</th>\n",
       "    </tr>\n",
       "  </thead>\n",
       "  <tbody>\n",
       "    <tr>\n",
       "      <th>0</th>\n",
       "      <td>RBPLJ0136+4751</td>\n",
       "      <td>0133+476</td>\n",
       "      <td>-26.6</td>\n",
       "      <td>1.4</td>\n",
       "      <td>F</td>\n",
       "      <td>0.859</td>\n",
       "      <td>16.54</td>\n",
       "      <td>12.73</td>\n",
       "      <td>17.15</td>\n",
       "      <td>4.35</td>\n",
       "    </tr>\n",
       "    <tr>\n",
       "      <th>1</th>\n",
       "      <td>RBPLJ0854+2006</td>\n",
       "      <td>0851+202</td>\n",
       "      <td>-111.5</td>\n",
       "      <td>1.3</td>\n",
       "      <td>B</td>\n",
       "      <td>0.306</td>\n",
       "      <td>15.14</td>\n",
       "      <td>29.77</td>\n",
       "      <td>18.75</td>\n",
       "      <td>1.56</td>\n",
       "    </tr>\n",
       "    <tr>\n",
       "      <th>2</th>\n",
       "      <td>RBPLJ1048+7143</td>\n",
       "      <td>1044+719</td>\n",
       "      <td></td>\n",
       "      <td></td>\n",
       "      <td>F</td>\n",
       "      <td>1.15</td>\n",
       "      <td>3.9</td>\n",
       "      <td>30.71</td>\n",
       "      <td>15.62</td>\n",
       "      <td>0.47</td>\n",
       "    </tr>\n",
       "    <tr>\n",
       "      <th>3</th>\n",
       "      <td>RBPLJ1558+5625</td>\n",
       "      <td>1557+565</td>\n",
       "      <td></td>\n",
       "      <td></td>\n",
       "      <td>B</td>\n",
       "      <td>0.3</td>\n",
       "      <td>nan</td>\n",
       "      <td>5.83</td>\n",
       "      <td>nan</td>\n",
       "      <td>nan</td>\n",
       "    </tr>\n",
       "    <tr>\n",
       "      <th>4</th>\n",
       "      <td>RBPLJ1751+0939</td>\n",
       "      <td>1749+096</td>\n",
       "      <td>25.4</td>\n",
       "      <td>2.7</td>\n",
       "      <td>B</td>\n",
       "      <td>0.322</td>\n",
       "      <td>7.9</td>\n",
       "      <td>17.62</td>\n",
       "      <td>10.61</td>\n",
       "      <td>2.43</td>\n",
       "    </tr>\n",
       "    <tr>\n",
       "      <th>5</th>\n",
       "      <td>RBPLJ1751+0939</td>\n",
       "      <td>1749+096</td>\n",
       "      <td>25.4</td>\n",
       "      <td>2.7</td>\n",
       "      <td>B</td>\n",
       "      <td>0.322</td>\n",
       "      <td>7.9</td>\n",
       "      <td>17.62</td>\n",
       "      <td>10.61</td>\n",
       "      <td>2.43</td>\n",
       "    </tr>\n",
       "    <tr>\n",
       "      <th>6</th>\n",
       "      <td>RBPLJ1806+6949</td>\n",
       "      <td>1807+698</td>\n",
       "      <td>-101.2</td>\n",
       "      <td>1.4</td>\n",
       "      <td>B</td>\n",
       "      <td>0.051</td>\n",
       "      <td>0.08</td>\n",
       "      <td>1.38</td>\n",
       "      <td>1.06</td>\n",
       "      <td>9.9</td>\n",
       "    </tr>\n",
       "    <tr>\n",
       "      <th>7</th>\n",
       "      <td>RBPLJ1809+2041</td>\n",
       "      <td>RXJ1809.3+2041</td>\n",
       "      <td></td>\n",
       "      <td></td>\n",
       "      <td>B</td>\n",
       "      <td>nan</td>\n",
       "      <td>nan</td>\n",
       "      <td>nan</td>\n",
       "      <td>nan</td>\n",
       "      <td>nan</td>\n",
       "    </tr>\n",
       "    <tr>\n",
       "      <th>8</th>\n",
       "      <td>RBPLJ2232+1143</td>\n",
       "      <td>2230+114</td>\n",
       "      <td>144.5</td>\n",
       "      <td>0.8</td>\n",
       "      <td>F</td>\n",
       "      <td>1.037</td>\n",
       "      <td>17.73</td>\n",
       "      <td>13.39</td>\n",
       "      <td>18.47</td>\n",
       "      <td>4.12</td>\n",
       "    </tr>\n",
       "    <tr>\n",
       "      <th>9</th>\n",
       "      <td>RBPLJ2311+3425</td>\n",
       "      <td>2308+341</td>\n",
       "      <td></td>\n",
       "      <td></td>\n",
       "      <td>F</td>\n",
       "      <td>1.817</td>\n",
       "      <td>3.6</td>\n",
       "      <td>60.03</td>\n",
       "      <td>30.13</td>\n",
       "      <td>0.11</td>\n",
       "    </tr>\n",
       "  </tbody>\n",
       "</table>\n",
       "</div>"
      ],
      "text/plain": [
       "            #name           altname       PA    OA  class       z    beta  \\\n",
       "0  RBPLJ0136+4751         0133+476     -26.6   1.4      F   0.859   16.54   \n",
       "1  RBPLJ0854+2006         0851+202    -111.5   1.3      B   0.306   15.14   \n",
       "2  RBPLJ1048+7143         1044+719                      F    1.15     3.9   \n",
       "3  RBPLJ1558+5625         1557+565                      B     0.3     nan   \n",
       "4  RBPLJ1751+0939         1749+096      25.4   2.7      B   0.322     7.9   \n",
       "5  RBPLJ1751+0939         1749+096      25.4   2.7      B   0.322     7.9   \n",
       "6  RBPLJ1806+6949         1807+698    -101.2   1.4      B   0.051    0.08   \n",
       "7  RBPLJ1809+2041   RXJ1809.3+2041                      B     nan     nan   \n",
       "8  RBPLJ2232+1143          2230+114    144.5   0.8      F   1.037   17.73   \n",
       "9  RBPLJ2311+3425          2308+341                     F   1.817     3.6   \n",
       "\n",
       "   doppler   gamma  theta  \n",
       "0    12.73   17.15   4.35  \n",
       "1    29.77   18.75   1.56  \n",
       "2    30.71   15.62   0.47  \n",
       "3     5.83     nan    nan  \n",
       "4    17.62   10.61   2.43  \n",
       "5    17.62   10.61   2.43  \n",
       "6     1.38    1.06    9.9  \n",
       "7      nan     nan    nan  \n",
       "8    13.39   18.47   4.12  \n",
       "9    60.03   30.13   0.11  "
      ]
     },
     "execution_count": 8,
     "metadata": {},
     "output_type": "execute_result"
    }
   ],
   "source": [
    "measured"
   ]
  },
  {
   "cell_type": "code",
   "execution_count": 11,
   "metadata": {},
   "outputs": [
    {
     "ename": "TypeError",
     "evalue": "list indices must be integers or slices, not tuple",
     "output_type": "error",
     "traceback": [
      "\u001b[0;31m---------------------------------------------------------------------------\u001b[0m",
      "\u001b[0;31mTypeError\u001b[0m                                 Traceback (most recent call last)",
      "\u001b[0;32m<ipython-input-11-aaf1dc80aad9>\u001b[0m in \u001b[0;36m<module>\u001b[0;34m\u001b[0m\n\u001b[1;32m      1\u001b[0m \u001b[0mplt\u001b[0m\u001b[0;34m.\u001b[0m\u001b[0mfigure\u001b[0m\u001b[0;34m(\u001b[0m\u001b[0mfigsize\u001b[0m\u001b[0;34m=\u001b[0m\u001b[0;34m(\u001b[0m\u001b[0;36m14\u001b[0m\u001b[0;34m,\u001b[0m\u001b[0;36m4\u001b[0m\u001b[0;34m)\u001b[0m\u001b[0;34m)\u001b[0m\u001b[0;34m\u001b[0m\u001b[0m\n\u001b[1;32m      2\u001b[0m \u001b[0mplt\u001b[0m\u001b[0;34m.\u001b[0m\u001b[0msubplot\u001b[0m\u001b[0;34m(\u001b[0m\u001b[0;36m131\u001b[0m\u001b[0;34m)\u001b[0m\u001b[0;34m\u001b[0m\u001b[0m\n\u001b[0;32m----> 3\u001b[0;31m \u001b[0mplt\u001b[0m\u001b[0;34m.\u001b[0m\u001b[0merrorbar\u001b[0m\u001b[0;34m(\u001b[0m\u001b[0mdata\u001b[0m\u001b[0;34m[\u001b[0m\u001b[0;34m:\u001b[0m\u001b[0;34m,\u001b[0m\u001b[0;36m0\u001b[0m\u001b[0;34m]\u001b[0m\u001b[0;34m,\u001b[0m\u001b[0mdata\u001b[0m\u001b[0;34m[\u001b[0m\u001b[0;34m:\u001b[0m\u001b[0;34m,\u001b[0m\u001b[0;36m1\u001b[0m\u001b[0;34m]\u001b[0m\u001b[0;34m,\u001b[0m\u001b[0myerr\u001b[0m\u001b[0;34m=\u001b[0m\u001b[0mdata\u001b[0m\u001b[0;34m[\u001b[0m\u001b[0;34m:\u001b[0m\u001b[0;34m,\u001b[0m\u001b[0;36m2\u001b[0m\u001b[0;34m]\u001b[0m\u001b[0;34m,\u001b[0m\u001b[0mfmt\u001b[0m\u001b[0;34m=\u001b[0m\u001b[0;34m'o'\u001b[0m\u001b[0;34m)\u001b[0m\u001b[0;34m\u001b[0m\u001b[0m\n\u001b[0m\u001b[1;32m      4\u001b[0m \u001b[0mplt\u001b[0m\u001b[0;34m.\u001b[0m\u001b[0msubplot\u001b[0m\u001b[0;34m(\u001b[0m\u001b[0;36m132\u001b[0m\u001b[0;34m)\u001b[0m\u001b[0;34m\u001b[0m\u001b[0m\n\u001b[1;32m      5\u001b[0m \u001b[0mplt\u001b[0m\u001b[0;34m.\u001b[0m\u001b[0merrorbar\u001b[0m\u001b[0;34m(\u001b[0m\u001b[0mdata\u001b[0m\u001b[0;34m[\u001b[0m\u001b[0;34m:\u001b[0m\u001b[0;34m,\u001b[0m\u001b[0;36m0\u001b[0m\u001b[0;34m]\u001b[0m\u001b[0;34m,\u001b[0m\u001b[0mdata\u001b[0m\u001b[0;34m[\u001b[0m\u001b[0;34m:\u001b[0m\u001b[0;34m,\u001b[0m\u001b[0;36m3\u001b[0m\u001b[0;34m]\u001b[0m\u001b[0;34m,\u001b[0m\u001b[0myerr\u001b[0m\u001b[0;34m=\u001b[0m\u001b[0mdata\u001b[0m\u001b[0;34m[\u001b[0m\u001b[0;34m:\u001b[0m\u001b[0;34m,\u001b[0m\u001b[0;36m4\u001b[0m\u001b[0;34m]\u001b[0m\u001b[0;34m,\u001b[0m\u001b[0mfmt\u001b[0m\u001b[0;34m=\u001b[0m\u001b[0;34m'o'\u001b[0m\u001b[0;34m)\u001b[0m\u001b[0;34m\u001b[0m\u001b[0m\n",
      "\u001b[0;31mTypeError\u001b[0m: list indices must be integers or slices, not tuple"
     ]
    },
    {
     "data": {
      "image/png": "[encoded data removed]",
      "text/plain": [
       "<matplotlib.figure.Figure at 0x7feec1a83b38>"
      ]
     },
     "metadata": {
      "needs_background": "light"
     },
     "output_type": "display_data"
    }
   ],
   "source": [
    "plt.figure(figsize=(14,4))\n",
    "plt.subplot(131)\n",
    "plt.errorbar(data[:,0],data[:,1],yerr=data[:,2],fmt='o')\n",
    "plt.subplot(132)\n",
    "plt.errorbar(data[:,0],data[:,3],yerr=data[:,4],fmt='o')\n",
    "plt.subplot(133)\n",
    "plt.errorbar(data[:,0],data[:,5],yerr=data[:,6],fmt='o')"
   ]
  },
  {
   "cell_type": "code",
   "execution_count": 10,
   "metadata": {
    "collapsed": true
   },
   "outputs": [],
   "source": [
    "idx = 2\n",
    "Day = data[idx][:,0]\n",
    "Flux = data[idx][:,5]; Flux_err = data[idx][:,6]\n",
    "PA = data[idx][:,3]; PA_err = data[idx][:,4]\n",
    "Pi = data[idx][:,1] / 100; Pi_err = data[idx][:,2] / 100\n",
    "deg = abs(max(PA) - min(PA)) / abs(max(Day) - min(Day))"
   ]
  },
  {
   "cell_type": "code",
   "execution_count": 10,
   "metadata": {},
   "outputs": [
    {
     "data": {
      "text/plain": [
       "8.974377356815264"
      ]
     },
     "execution_count": 10,
     "metadata": {},
     "output_type": "execute_result"
    }
   ],
   "source": [
    "deg"
   ]
  },
  {
   "cell_type": "code",
   "execution_count": 289,
   "metadata": {
    "collapsed": true
   },
   "outputs": [],
   "source": [
    "offset = 0\n",
    "helix = np.array([Bhelix((ph * deg + offset)* np.pi/180,0.2) for ph in range(22)])"
   ]
  },
  {
   "cell_type": "code",
   "execution_count": 375,
   "metadata": {},
   "outputs": [
    {
     "name": "stdout",
     "output_type": "stream",
     "text": [
      "1.3494818844471053\n"
     ]
    }
   ],
   "source": [
    "Gamma = 10\n",
    "theta_obs = 0.8 / Gamma #3 * np.pi/180\n",
    "beta = np.sqrt(1-1/Gamma**2)\n",
    "#theta_rot = np.arccos( (1/Gamma**2 - theta_obs**2) / (theta_obs**2 + 1/Gamma**2 - theta_obs**2 / (2 * Gamma**2) ) )\n",
    "theta_rot = np.arccos( (1 - 0.8**2) / (1 + 0.8**2) )\n",
    "#theta_rot = np.arccos((np.cos(theta_obs) - beta) / (1 - beta*np.cos(theta_obs)) )# - theta_obs\n",
    "print(theta_rot)\n",
    "#R1 = Rot(theta_obs)\n",
    "R2 = Rot(theta_rot)\n",
    "f = lambda x: np.arccos((np.cos(0.1) - np.sqrt(1-1/(x/0.1)**2)) / (1 - np.sqrt(1-1/(x/0.1)**2)*np.cos(0.1)) ) - 0.1"
   ]
  },
  {
   "cell_type": "code",
   "execution_count": 792,
   "metadata": {
    "collapsed": true
   },
   "outputs": [],
   "source": [
    " z = np.stack([-np.sin(theta_rot),np.cos(theta_rot),np.zeros(len(theta_rot))],axis=1)"
   ]
  },
  {
   "cell_type": "code",
   "execution_count": 810,
   "metadata": {},
   "outputs": [
    {
     "data": {
      "text/plain": [
       "(2, 62)"
      ]
     },
     "execution_count": 810,
     "metadata": {},
     "output_type": "execute_result"
    }
   ],
   "source": [
    "coords.shape"
   ]
  },
  {
   "cell_type": "code",
   "execution_count": 811,
   "metadata": {},
   "outputs": [
    {
     "name": "stdout",
     "output_type": "stream",
     "text": [
      "(62, 17)\n",
      "(62, 17)\n",
      "[-0.04636525  0.02505294  0.99861034]\n"
     ]
    }
   ],
   "source": [
    "x0,y0 = np.meshgrid(np.transpose(B_orig)[:,0],np.stack([-np.sin(coords[1,:]),np.cos(coords[1,:]),np.zeros(len(coords[1,:]))],axis=1)[:,0])\n",
    "x1,y1 = np.meshgrid(np.transpose(B_orig)[:,1],np.stack([-np.sin(coords[1,:]),np.cos(coords[1,:]),np.zeros(len(coords[1,:]))],axis=1)[:,1])\n",
    "x2,y2 = np.meshgrid(np.transpose(B_orig)[:,2],np.stack([-np.sin(coords[1,:]),np.cos(coords[1,:]),np.zeros(len(coords[1,:]))],axis=1)[:,2])\n",
    "_, th = np.meshgrid(np.transpose(B_orig)[:,2], theta_rot)\n",
    "\n",
    "print(x0.shape)\n",
    "print(th.shape)\n",
    "B_mesh = np.stack([x0,x1,x2],axis=2)\n",
    "axis_mesh = np.stack([y0,y1,y2],axis=2)\n",
    "\n",
    "print(x[3,2])"
   ]
  },
  {
   "cell_type": "code",
   "execution_count": 774,
   "metadata": {},
   "outputs": [
    {
     "data": {
      "text/plain": [
       "array([-0.04165081,  0.03214275,  0.99861507])"
      ]
     },
     "execution_count": 774,
     "metadata": {},
     "output_type": "execute_result"
    }
   ],
   "source": [
    "np.transpose(B_orig)[1]"
   ]
  },
  {
   "cell_type": "markdown",
   "metadata": {},
   "source": [
    "Max ratio range for subjets is ratio_centre $\\pm 1$, since max opening angle in jet frame is $45^{\\circ}$\n",
    "\n",
    "So to build a circular jet of subjets, can split into grid with $ratio$ as x axis and $\\theta_{rot}$ as y axis"
   ]
  },
  {
   "cell_type": "code",
   "execution_count": null,
   "metadata": {
    "collapsed": true
   },
   "outputs": [],
   "source": [
    "ratio_range = 0.5 #max ratio_range = 1\n"
   ]
  },
  {
   "cell_type": "code",
   "execution_count": 851,
   "metadata": {
    "collapsed": true
   },
   "outputs": [],
   "source": [
    "deg = abs(max(PA[:,1]) - min(PA[:,1])) / abs(max(PA[:,0]) - min(PA[:,0]))"
   ]
  },
  {
   "cell_type": "code",
   "execution_count": 1090,
   "metadata": {
    "collapsed": true
   },
   "outputs": [],
   "source": [
    "X,Y,Z = np.meshgrid(np.linspace(0,1.5,50),np.linspace(0,1,50),np.linspace(-1.5,1.5,50))"
   ]
  },
  {
   "cell_type": "code",
   "execution_count": 68,
   "metadata": {},
   "outputs": [
    {
     "data": {
      "text/plain": [
       "(1.5934944769889652, 3.820442494544469)"
      ]
     },
     "execution_count": 68,
     "metadata": {},
     "output_type": "execute_result"
    }
   ],
   "source": [
    "logL(min(results)[1])"
   ]
  },
  {
   "cell_type": "code",
   "execution_count": 116,
   "metadata": {},
   "outputs": [
    {
     "name": "stdout",
     "output_type": "stream",
     "text": [
      "sign should be: 1\n",
      "[0.15789473684210525, -1.473684210526316, -85.26315789473685, -14.21052631578948]\n",
      "[  0.12301255  -2.07151155 -82.46983174  -9.18988099]\n"
     ]
    },
    {
     "data": {
      "text/plain": [
       "[<matplotlib.lines.Line2D at 0x7f5fceb0b3c8>]"
      ]
     },
     "execution_count": 116,
     "metadata": {},
     "output_type": "execute_result"
    },
    {
     "data": {
      "image/png": "[encoded data removed]",
      "text/plain": [
       "<matplotlib.figure.Figure at 0x7f5f9ffcc588>"
      ]
     },
     "metadata": {
      "needs_background": "light"
     },
     "output_type": "display_data"
    }
   ],
   "source": [
    "delta = 1.0\n",
    "delta1 = 0.001\n",
    "delta2 = 0.001\n",
    "sign = 1\n",
    "def logL(X):\n",
    "    ratio, ratio_range, pitch, offset = X\n",
    "    _, pa_hat, p_hat = Jet(Day, ratio, ratio_range, pitch, offset, deg=deg, sign=sign, alpha=2, Gamma=10)\n",
    "    loss_pa = np.sum(abs(np.cos(2*np.deg2rad(PA)) - np.cos(2*np.deg2rad(pa_hat))) / PA_err\n",
    "                  + abs(np.sin(2*np.deg2rad(PA)) - np.sin(2*np.deg2rad(pa_hat))) / PA_err )\n",
    "    loss_flux = np.sum(abs(Flux - p_hat * max(Flux) / max(p_hat)) / Flux_err )\n",
    "    #loss_pi = np.sum(abs(Pi - pi_hat) / Pi_err )\n",
    "    #return loss_pa + delta1 * loss_flux + delta2 * loss_pi\n",
    "    return loss_pa + delta * loss_flux\n",
    "                              \n",
    "#x0 = (np.random.uniform(0,1.5),np.random.uniform(0,0.999),np.random.uniform(-1.5,1.5))\n",
    "print(\"sign should be: {}\".format(results[0][1][-1]))\n",
    "x0 = list(results[0][1])[:-1] #min(results)[1] #(0.57, 0.1, 0.1, -2.0)\n",
    "print(x0)\n",
    "res = minimize(logL, x0=x0, bounds=((0,1.5),(-4,4),(-180,180),(-90,90)))\n",
    "print(res['x'])\n",
    "\n",
    "pi_hat, pa_hat, p_hat = Jet(Day, res['x'][0], 0.1, res['x'][1], offset=res['x'][2], axis=res['x'][3], \n",
    "                            deg=deg, sign=sign, alpha=2, Gamma=10)\n",
    "plt.figure(figsize=(13,4))\n",
    "plt.subplot(131)\n",
    "plt.plot(Day,pa_hat)\n",
    "plt.errorbar(Day, PA, yerr=PA_err, color='r',fmt='o')\n",
    "plt.title(r\"$\\theta_{PA}$\")\n",
    "plt.subplot(132)\n",
    "list1, list2 = zip(*sorted(zip(Day, p_hat * max(Flux) / max(p_hat))))\n",
    "plt.plot(list1,list2)\n",
    "plt.errorbar(Day, Flux, yerr=Flux_err, color='r',fmt='o')\n",
    "plt.subplot(133)\n",
    "plt.errorbar(Day, Pi, yerr=Pi_err, color='r',fmt='o')\n",
    "plt.plot(Day,pi_hat-abs(max(Pi) - max(pi_hat)))\n"
   ]
  },
  {
   "cell_type": "code",
   "execution_count": 13,
   "metadata": {},
   "outputs": [
    {
     "data": {
      "text/plain": [
       "3.4375571723071783"
      ]
     },
     "execution_count": 13,
     "metadata": {},
     "output_type": "execute_result"
    }
   ],
   "source": [
    "deg"
   ]
  },
  {
   "cell_type": "code",
   "execution_count": 20,
   "metadata": {},
   "outputs": [
    {
     "name": "stdout",
     "output_type": "stream",
     "text": [
      "(9, 80, 3, 1e-06, 1, 0.5)\n",
      "[7.50000000e+00 6.47764666e+01 2.05651314e+00 4.44704496e-07\n",
      " 1.00000000e-03 5.00000000e-02]\n"
     ]
    },
    {
     "data": {
      "text/plain": [
       "[<matplotlib.lines.Line2D at 0x7f367189eb38>]"
      ]
     },
     "execution_count": 20,
     "metadata": {},
     "output_type": "execute_result"
    },
    {
     "data": {
      "image/png": "[encoded data removed]",
      "text/plain": [
       "<matplotlib.figure.Figure at 0x7f3671e32ef0>"
      ]
     },
     "metadata": {
      "needs_background": "light"
     },
     "output_type": "display_data"
    }
   ],
   "source": [
    "delta = 1.0\n",
    "delta1 = 0.001\n",
    "delta2 = 0.001\n",
    "sign = 1\n",
    "def logL(X):\n",
    "    deg,offset,axis, a, b, c = X\n",
    "    pi_hat, pa_hat, p_hat = Jet(Day, 0.7, 0.2, 0.1, offset=offset, deg=deg, axis=axis, sign=-1, alpha=2, Gamma=10)\n",
    "    loss_pa = np.sum((np.cos(2*np.deg2rad(PA)) - np.cos(2*np.deg2rad(pa_hat)))**2 / PA_err**2\n",
    "                  + (np.sin(2*np.deg2rad(PA)) - np.sin(2*np.deg2rad(pa_hat)))**2 / PA_err**2 )\n",
    "    \n",
    "    loss_flux = np.sum((Flux - (p_hat * a + b))**2 / Flux_err**2 )\n",
    "    loss_pi = np.sum((Pi - (pi_hat + c))**2 / Pi_err**2 )\n",
    "    #return loss_pa + delta1 * loss_flux + delta2 * loss_pi\n",
    "    return delta * loss_pa + delta1 * loss_flux + delta2 * loss_pi\n",
    "                              \n",
    "x0 = (np.random.uniform(8.5,9.5),np.random.uniform(-180,180),np.random.uniform(-90,90))\n",
    "x0 = (9,80,3,1e-6,1,0.5)\n",
    "print(x0)\n",
    "res = minimize(logL, x0=x0, bounds=((7.5,10.5),(-180,180),(-90,90),(1e-8,1e-4),(0.001,10),(0.05,0.7)) )\n",
    "print(res['x'])\n",
    "\n",
    "pi_hat, pa_hat, p_hat = Jet(Day, 0.7, 0.2, 0.1, offset=res['x'][0], deg=res['x'][1],axis=res['x'][2], \n",
    "                            sign=-1, alpha=2, Gamma=10)\n",
    "\n",
    "plt.figure(figsize=(13,4))\n",
    "plt.subplot(131)\n",
    "plt.plot(Day,pa_hat)\n",
    "plt.errorbar(Day, PA, yerr=PA_err, color='r',fmt='o')\n",
    "plt.title(r\"$\\theta_{PA}$\")\n",
    "plt.subplot(132)\n",
    "plt.plot(Day,p_hat*res['x'][3] + res['x'][4])\n",
    "plt.errorbar(Day, Flux, yerr=Flux_err, color='r',fmt='o')\n",
    "plt.subplot(133)\n",
    "plt.errorbar(Day, Pi, yerr=Pi_err, color='r',fmt='o')\n",
    "plt.plot(Day,pi_hat + res['x'][5])"
   ]
  },
  {
   "cell_type": "code",
   "execution_count": null,
   "metadata": {
    "collapsed": true
   },
   "outputs": [],
   "source": []
  },
  {
   "cell_type": "markdown",
   "metadata": {},
   "source": [
    "### Grid Search\n",
    "To identify good initial parameter spaces."
   ]
  },
  {
   "cell_type": "code",
   "execution_count": 106,
   "metadata": {
    "collapsed": true
   },
   "outputs": [],
   "source": [
    "PA = PA[:-2]\n",
    "Flux = Flux[:-2]\n",
    "Pi = Pi[:-2]\n",
    "Day = Day[:-2]"
   ]
  },
  {
   "cell_type": "code",
   "execution_count": 107,
   "metadata": {
    "collapsed": true
   },
   "outputs": [],
   "source": [
    "PA_err = PA_err[:-2]\n",
    "Flux_err = Flux_err[:-2]\n",
    "Pi_err = Pi_err[:-2]"
   ]
  },
  {
   "cell_type": "code",
   "execution_count": 20,
   "metadata": {},
   "outputs": [
    {
     "data": {
      "text/plain": [
       "array([1.6, 1.8, 2. , 2.2, 2.4])"
      ]
     },
     "execution_count": 20,
     "metadata": {},
     "output_type": "execute_result"
    }
   ],
   "source": [
    "np.linspace(2*0.8,2*1.2,5)"
   ]
  },
  {
   "cell_type": "code",
   "execution_count": 16,
   "metadata": {},
   "outputs": [
    {
     "name": "stdout",
     "output_type": "stream",
     "text": [
      "32\n",
      "STARTING...\n"
     ]
    },
    {
     "name": "stderr",
     "output_type": "stream",
     "text": [
      "/home/users/alpv95/.local/lib/python3.6/site-packages/ipykernel_launcher.py:22: FutureWarning: `rcond` parameter will change to the default of machine precision times ``max(M, N)`` where M and N are the input matrix dimensions.\n",
      "To use the future default and silence this warning we advise to pass `rcond=None`, to keep using the old, explicitly pass `rcond=-1`.\n",
      "/home/users/alpv95/.local/lib/python3.6/site-packages/ipykernel_launcher.py:31: FutureWarning: `rcond` parameter will change to the default of machine precision times ``max(M, N)`` where M and N are the input matrix dimensions.\n",
      "To use the future default and silence this warning we advise to pass `rcond=None`, to keep using the old, explicitly pass `rcond=-1`.\n",
      "/home/users/alpv95/.local/lib/python3.6/site-packages/ipykernel_launcher.py:22: FutureWarning: `rcond` parameter will change to the default of machine precision times ``max(M, N)`` where M and N are the input matrix dimensions.\n",
      "To use the future default and silence this warning we advise to pass `rcond=None`, to keep using the old, explicitly pass `rcond=-1`.\n",
      "/home/users/alpv95/.local/lib/python3.6/site-packages/ipykernel_launcher.py:31: FutureWarning: `rcond` parameter will change to the default of machine precision times ``max(M, N)`` where M and N are the input matrix dimensions.\n",
      "To use the future default and silence this warning we advise to pass `rcond=None`, to keep using the old, explicitly pass `rcond=-1`.\n",
      "/home/users/alpv95/.local/lib/python3.6/site-packages/ipykernel_launcher.py:22: FutureWarning: `rcond` parameter will change to the default of machine precision times ``max(M, N)`` where M and N are the input matrix dimensions.\n",
      "To use the future default and silence this warning we advise to pass `rcond=None`, to keep using the old, explicitly pass `rcond=-1`.\n",
      "/home/users/alpv95/.local/lib/python3.6/site-packages/ipykernel_launcher.py:31: FutureWarning: `rcond` parameter will change to the default of machine precision times ``max(M, N)`` where M and N are the input matrix dimensions.\n",
      "To use the future default and silence this warning we advise to pass `rcond=None`, to keep using the old, explicitly pass `rcond=-1`.\n",
      "/home/users/alpv95/.local/lib/python3.6/site-packages/ipykernel_launcher.py:22: FutureWarning: `rcond` parameter will change to the default of machine precision times ``max(M, N)`` where M and N are the input matrix dimensions.\n",
      "To use the future default and silence this warning we advise to pass `rcond=None`, to keep using the old, explicitly pass `rcond=-1`.\n",
      "/home/users/alpv95/.local/lib/python3.6/site-packages/ipykernel_launcher.py:31: FutureWarning: `rcond` parameter will change to the default of machine precision times ``max(M, N)`` where M and N are the input matrix dimensions.\n",
      "To use the future default and silence this warning we advise to pass `rcond=None`, to keep using the old, explicitly pass `rcond=-1`.\n",
      "/home/users/alpv95/.local/lib/python3.6/site-packages/ipykernel_launcher.py:22: FutureWarning: `rcond` parameter will change to the default of machine precision times ``max(M, N)`` where M and N are the input matrix dimensions.\n",
      "To use the future default and silence this warning we advise to pass `rcond=None`, to keep using the old, explicitly pass `rcond=-1`.\n",
      "/home/users/alpv95/.local/lib/python3.6/site-packages/ipykernel_launcher.py:31: FutureWarning: `rcond` parameter will change to the default of machine precision times ``max(M, N)`` where M and N are the input matrix dimensions.\n",
      "To use the future default and silence this warning we advise to pass `rcond=None`, to keep using the old, explicitly pass `rcond=-1`.\n",
      "/home/users/alpv95/.local/lib/python3.6/site-packages/ipykernel_launcher.py:22: FutureWarning: `rcond` parameter will change to the default of machine precision times ``max(M, N)`` where M and N are the input matrix dimensions.\n",
      "To use the future default and silence this warning we advise to pass `rcond=None`, to keep using the old, explicitly pass `rcond=-1`.\n",
      "/home/users/alpv95/.local/lib/python3.6/site-packages/ipykernel_launcher.py:31: FutureWarning: `rcond` parameter will change to the default of machine precision times ``max(M, N)`` where M and N are the input matrix dimensions.\n",
      "To use the future default and silence this warning we advise to pass `rcond=None`, to keep using the old, explicitly pass `rcond=-1`.\n",
      "/home/users/alpv95/.local/lib/python3.6/site-packages/ipykernel_launcher.py:22: FutureWarning: `rcond` parameter will change to the default of machine precision times ``max(M, N)`` where M and N are the input matrix dimensions.\n",
      "To use the future default and silence this warning we advise to pass `rcond=None`, to keep using the old, explicitly pass `rcond=-1`.\n",
      "/home/users/alpv95/.local/lib/python3.6/site-packages/ipykernel_launcher.py:31: FutureWarning: `rcond` parameter will change to the default of machine precision times ``max(M, N)`` where M and N are the input matrix dimensions.\n",
      "To use the future default and silence this warning we advise to pass `rcond=None`, to keep using the old, explicitly pass `rcond=-1`.\n",
      "/home/users/alpv95/.local/lib/python3.6/site-packages/ipykernel_launcher.py:22: FutureWarning: `rcond` parameter will change to the default of machine precision times ``max(M, N)`` where M and N are the input matrix dimensions.\n",
      "To use the future default and silence this warning we advise to pass `rcond=None`, to keep using the old, explicitly pass `rcond=-1`.\n",
      "/home/users/alpv95/.local/lib/python3.6/site-packages/ipykernel_launcher.py:31: FutureWarning: `rcond` parameter will change to the default of machine precision times ``max(M, N)`` where M and N are the input matrix dimensions.\n",
      "To use the future default and silence this warning we advise to pass `rcond=None`, to keep using the old, explicitly pass `rcond=-1`.\n",
      "/home/users/alpv95/.local/lib/python3.6/site-packages/ipykernel_launcher.py:22: FutureWarning: `rcond` parameter will change to the default of machine precision times ``max(M, N)`` where M and N are the input matrix dimensions.\n",
      "To use the future default and silence this warning we advise to pass `rcond=None`, to keep using the old, explicitly pass `rcond=-1`.\n",
      "/home/users/alpv95/.local/lib/python3.6/site-packages/ipykernel_launcher.py:31: FutureWarning: `rcond` parameter will change to the default of machine precision times ``max(M, N)`` where M and N are the input matrix dimensions.\n",
      "To use the future default and silence this warning we advise to pass `rcond=None`, to keep using the old, explicitly pass `rcond=-1`.\n",
      "/home/users/alpv95/.local/lib/python3.6/site-packages/ipykernel_launcher.py:22: FutureWarning: `rcond` parameter will change to the default of machine precision times ``max(M, N)`` where M and N are the input matrix dimensions.\n",
      "To use the future default and silence this warning we advise to pass `rcond=None`, to keep using the old, explicitly pass `rcond=-1`.\n",
      "/home/users/alpv95/.local/lib/python3.6/site-packages/ipykernel_launcher.py:31: FutureWarning: `rcond` parameter will change to the default of machine precision times ``max(M, N)`` where M and N are the input matrix dimensions.\n",
      "To use the future default and silence this warning we advise to pass `rcond=None`, to keep using the old, explicitly pass `rcond=-1`.\n",
      "/home/users/alpv95/.local/lib/python3.6/site-packages/ipykernel_launcher.py:22: FutureWarning: `rcond` parameter will change to the default of machine precision times ``max(M, N)`` where M and N are the input matrix dimensions.\n",
      "To use the future default and silence this warning we advise to pass `rcond=None`, to keep using the old, explicitly pass `rcond=-1`.\n",
      "/home/users/alpv95/.local/lib/python3.6/site-packages/ipykernel_launcher.py:31: FutureWarning: `rcond` parameter will change to the default of machine precision times ``max(M, N)`` where M and N are the input matrix dimensions.\n",
      "To use the future default and silence this warning we advise to pass `rcond=None`, to keep using the old, explicitly pass `rcond=-1`.\n",
      "/home/users/alpv95/.local/lib/python3.6/site-packages/ipykernel_launcher.py:22: FutureWarning: `rcond` parameter will change to the default of machine precision times ``max(M, N)`` where M and N are the input matrix dimensions.\n",
      "To use the future default and silence this warning we advise to pass `rcond=None`, to keep using the old, explicitly pass `rcond=-1`.\n"
     ]
    },
    {
     "name": "stderr",
     "output_type": "stream",
     "text": [
      "/home/users/alpv95/.local/lib/python3.6/site-packages/ipykernel_launcher.py:31: FutureWarning: `rcond` parameter will change to the default of machine precision times ``max(M, N)`` where M and N are the input matrix dimensions.\n",
      "To use the future default and silence this warning we advise to pass `rcond=None`, to keep using the old, explicitly pass `rcond=-1`.\n",
      "/home/users/alpv95/.local/lib/python3.6/site-packages/ipykernel_launcher.py:22: FutureWarning: `rcond` parameter will change to the default of machine precision times ``max(M, N)`` where M and N are the input matrix dimensions.\n",
      "To use the future default and silence this warning we advise to pass `rcond=None`, to keep using the old, explicitly pass `rcond=-1`.\n",
      "/home/users/alpv95/.local/lib/python3.6/site-packages/ipykernel_launcher.py:31: FutureWarning: `rcond` parameter will change to the default of machine precision times ``max(M, N)`` where M and N are the input matrix dimensions.\n",
      "To use the future default and silence this warning we advise to pass `rcond=None`, to keep using the old, explicitly pass `rcond=-1`.\n",
      "/home/users/alpv95/.local/lib/python3.6/site-packages/ipykernel_launcher.py:22: FutureWarning: `rcond` parameter will change to the default of machine precision times ``max(M, N)`` where M and N are the input matrix dimensions.\n",
      "To use the future default and silence this warning we advise to pass `rcond=None`, to keep using the old, explicitly pass `rcond=-1`.\n",
      "/home/users/alpv95/.local/lib/python3.6/site-packages/ipykernel_launcher.py:31: FutureWarning: `rcond` parameter will change to the default of machine precision times ``max(M, N)`` where M and N are the input matrix dimensions.\n",
      "To use the future default and silence this warning we advise to pass `rcond=None`, to keep using the old, explicitly pass `rcond=-1`.\n",
      "/home/users/alpv95/.local/lib/python3.6/site-packages/ipykernel_launcher.py:22: FutureWarning: `rcond` parameter will change to the default of machine precision times ``max(M, N)`` where M and N are the input matrix dimensions.\n",
      "To use the future default and silence this warning we advise to pass `rcond=None`, to keep using the old, explicitly pass `rcond=-1`.\n",
      "/home/users/alpv95/.local/lib/python3.6/site-packages/ipykernel_launcher.py:31: FutureWarning: `rcond` parameter will change to the default of machine precision times ``max(M, N)`` where M and N are the input matrix dimensions.\n",
      "To use the future default and silence this warning we advise to pass `rcond=None`, to keep using the old, explicitly pass `rcond=-1`.\n",
      "/home/users/alpv95/.local/lib/python3.6/site-packages/ipykernel_launcher.py:22: FutureWarning: `rcond` parameter will change to the default of machine precision times ``max(M, N)`` where M and N are the input matrix dimensions.\n",
      "To use the future default and silence this warning we advise to pass `rcond=None`, to keep using the old, explicitly pass `rcond=-1`.\n",
      "/home/users/alpv95/.local/lib/python3.6/site-packages/ipykernel_launcher.py:31: FutureWarning: `rcond` parameter will change to the default of machine precision times ``max(M, N)`` where M and N are the input matrix dimensions.\n",
      "To use the future default and silence this warning we advise to pass `rcond=None`, to keep using the old, explicitly pass `rcond=-1`.\n",
      "/home/users/alpv95/.local/lib/python3.6/site-packages/ipykernel_launcher.py:22: FutureWarning: `rcond` parameter will change to the default of machine precision times ``max(M, N)`` where M and N are the input matrix dimensions.\n",
      "To use the future default and silence this warning we advise to pass `rcond=None`, to keep using the old, explicitly pass `rcond=-1`.\n",
      "/home/users/alpv95/.local/lib/python3.6/site-packages/ipykernel_launcher.py:31: FutureWarning: `rcond` parameter will change to the default of machine precision times ``max(M, N)`` where M and N are the input matrix dimensions.\n",
      "To use the future default and silence this warning we advise to pass `rcond=None`, to keep using the old, explicitly pass `rcond=-1`.\n",
      "/home/users/alpv95/.local/lib/python3.6/site-packages/ipykernel_launcher.py:22: FutureWarning: `rcond` parameter will change to the default of machine precision times ``max(M, N)`` where M and N are the input matrix dimensions.\n",
      "To use the future default and silence this warning we advise to pass `rcond=None`, to keep using the old, explicitly pass `rcond=-1`.\n",
      "/home/users/alpv95/.local/lib/python3.6/site-packages/ipykernel_launcher.py:31: FutureWarning: `rcond` parameter will change to the default of machine precision times ``max(M, N)`` where M and N are the input matrix dimensions.\n",
      "To use the future default and silence this warning we advise to pass `rcond=None`, to keep using the old, explicitly pass `rcond=-1`.\n",
      "/home/users/alpv95/.local/lib/python3.6/site-packages/ipykernel_launcher.py:22: FutureWarning: `rcond` parameter will change to the default of machine precision times ``max(M, N)`` where M and N are the input matrix dimensions.\n",
      "To use the future default and silence this warning we advise to pass `rcond=None`, to keep using the old, explicitly pass `rcond=-1`.\n",
      "/home/users/alpv95/.local/lib/python3.6/site-packages/ipykernel_launcher.py:31: FutureWarning: `rcond` parameter will change to the default of machine precision times ``max(M, N)`` where M and N are the input matrix dimensions.\n",
      "To use the future default and silence this warning we advise to pass `rcond=None`, to keep using the old, explicitly pass `rcond=-1`.\n",
      "/home/users/alpv95/.local/lib/python3.6/site-packages/ipykernel_launcher.py:22: FutureWarning: `rcond` parameter will change to the default of machine precision times ``max(M, N)`` where M and N are the input matrix dimensions.\n",
      "To use the future default and silence this warning we advise to pass `rcond=None`, to keep using the old, explicitly pass `rcond=-1`.\n",
      "/home/users/alpv95/.local/lib/python3.6/site-packages/ipykernel_launcher.py:31: FutureWarning: `rcond` parameter will change to the default of machine precision times ``max(M, N)`` where M and N are the input matrix dimensions.\n",
      "To use the future default and silence this warning we advise to pass `rcond=None`, to keep using the old, explicitly pass `rcond=-1`.\n",
      "/home/users/alpv95/.local/lib/python3.6/site-packages/ipykernel_launcher.py:22: FutureWarning: `rcond` parameter will change to the default of machine precision times ``max(M, N)`` where M and N are the input matrix dimensions.\n",
      "To use the future default and silence this warning we advise to pass `rcond=None`, to keep using the old, explicitly pass `rcond=-1`.\n",
      "/home/users/alpv95/.local/lib/python3.6/site-packages/ipykernel_launcher.py:31: FutureWarning: `rcond` parameter will change to the default of machine precision times ``max(M, N)`` where M and N are the input matrix dimensions.\n",
      "To use the future default and silence this warning we advise to pass `rcond=None`, to keep using the old, explicitly pass `rcond=-1`.\n",
      "/home/users/alpv95/.local/lib/python3.6/site-packages/ipykernel_launcher.py:22: FutureWarning: `rcond` parameter will change to the default of machine precision times ``max(M, N)`` where M and N are the input matrix dimensions.\n",
      "To use the future default and silence this warning we advise to pass `rcond=None`, to keep using the old, explicitly pass `rcond=-1`.\n",
      "/home/users/alpv95/.local/lib/python3.6/site-packages/ipykernel_launcher.py:31: FutureWarning: `rcond` parameter will change to the default of machine precision times ``max(M, N)`` where M and N are the input matrix dimensions.\n",
      "To use the future default and silence this warning we advise to pass `rcond=None`, to keep using the old, explicitly pass `rcond=-1`.\n",
      "/home/users/alpv95/.local/lib/python3.6/site-packages/ipykernel_launcher.py:22: FutureWarning: `rcond` parameter will change to the default of machine precision times ``max(M, N)`` where M and N are the input matrix dimensions.\n",
      "To use the future default and silence this warning we advise to pass `rcond=None`, to keep using the old, explicitly pass `rcond=-1`.\n",
      "/home/users/alpv95/.local/lib/python3.6/site-packages/ipykernel_launcher.py:31: FutureWarning: `rcond` parameter will change to the default of machine precision times ``max(M, N)`` where M and N are the input matrix dimensions.\n",
      "To use the future default and silence this warning we advise to pass `rcond=None`, to keep using the old, explicitly pass `rcond=-1`.\n"
     ]
    },
    {
     "name": "stderr",
     "output_type": "stream",
     "text": [
      "/home/users/alpv95/.local/lib/python3.6/site-packages/ipykernel_launcher.py:22: FutureWarning: `rcond` parameter will change to the default of machine precision times ``max(M, N)`` where M and N are the input matrix dimensions.\n",
      "To use the future default and silence this warning we advise to pass `rcond=None`, to keep using the old, explicitly pass `rcond=-1`.\n",
      "/home/users/alpv95/.local/lib/python3.6/site-packages/ipykernel_launcher.py:31: FutureWarning: `rcond` parameter will change to the default of machine precision times ``max(M, N)`` where M and N are the input matrix dimensions.\n",
      "To use the future default and silence this warning we advise to pass `rcond=None`, to keep using the old, explicitly pass `rcond=-1`.\n",
      "/home/users/alpv95/.local/lib/python3.6/site-packages/ipykernel_launcher.py:22: FutureWarning: `rcond` parameter will change to the default of machine precision times ``max(M, N)`` where M and N are the input matrix dimensions.\n",
      "To use the future default and silence this warning we advise to pass `rcond=None`, to keep using the old, explicitly pass `rcond=-1`.\n",
      "/home/users/alpv95/.local/lib/python3.6/site-packages/ipykernel_launcher.py:31: FutureWarning: `rcond` parameter will change to the default of machine precision times ``max(M, N)`` where M and N are the input matrix dimensions.\n",
      "To use the future default and silence this warning we advise to pass `rcond=None`, to keep using the old, explicitly pass `rcond=-1`.\n",
      "/home/users/alpv95/.local/lib/python3.6/site-packages/ipykernel_launcher.py:22: FutureWarning: `rcond` parameter will change to the default of machine precision times ``max(M, N)`` where M and N are the input matrix dimensions.\n",
      "To use the future default and silence this warning we advise to pass `rcond=None`, to keep using the old, explicitly pass `rcond=-1`.\n",
      "/home/users/alpv95/.local/lib/python3.6/site-packages/ipykernel_launcher.py:31: FutureWarning: `rcond` parameter will change to the default of machine precision times ``max(M, N)`` where M and N are the input matrix dimensions.\n",
      "To use the future default and silence this warning we advise to pass `rcond=None`, to keep using the old, explicitly pass `rcond=-1`.\n",
      "/home/users/alpv95/.local/lib/python3.6/site-packages/ipykernel_launcher.py:22: FutureWarning: `rcond` parameter will change to the default of machine precision times ``max(M, N)`` where M and N are the input matrix dimensions.\n",
      "To use the future default and silence this warning we advise to pass `rcond=None`, to keep using the old, explicitly pass `rcond=-1`.\n",
      "/home/users/alpv95/.local/lib/python3.6/site-packages/ipykernel_launcher.py:31: FutureWarning: `rcond` parameter will change to the default of machine precision times ``max(M, N)`` where M and N are the input matrix dimensions.\n",
      "To use the future default and silence this warning we advise to pass `rcond=None`, to keep using the old, explicitly pass `rcond=-1`.\n",
      "/home/users/alpv95/.local/lib/python3.6/site-packages/ipykernel_launcher.py:22: FutureWarning: `rcond` parameter will change to the default of machine precision times ``max(M, N)`` where M and N are the input matrix dimensions.\n",
      "To use the future default and silence this warning we advise to pass `rcond=None`, to keep using the old, explicitly pass `rcond=-1`.\n",
      "/home/users/alpv95/.local/lib/python3.6/site-packages/ipykernel_launcher.py:31: FutureWarning: `rcond` parameter will change to the default of machine precision times ``max(M, N)`` where M and N are the input matrix dimensions.\n",
      "To use the future default and silence this warning we advise to pass `rcond=None`, to keep using the old, explicitly pass `rcond=-1`.\n",
      "/home/users/alpv95/.local/lib/python3.6/site-packages/ipykernel_launcher.py:22: FutureWarning: `rcond` parameter will change to the default of machine precision times ``max(M, N)`` where M and N are the input matrix dimensions.\n",
      "To use the future default and silence this warning we advise to pass `rcond=None`, to keep using the old, explicitly pass `rcond=-1`.\n",
      "/home/users/alpv95/.local/lib/python3.6/site-packages/ipykernel_launcher.py:31: FutureWarning: `rcond` parameter will change to the default of machine precision times ``max(M, N)`` where M and N are the input matrix dimensions.\n",
      "To use the future default and silence this warning we advise to pass `rcond=None`, to keep using the old, explicitly pass `rcond=-1`.\n",
      "/home/users/alpv95/.local/lib/python3.6/site-packages/ipykernel_launcher.py:22: FutureWarning: `rcond` parameter will change to the default of machine precision times ``max(M, N)`` where M and N are the input matrix dimensions.\n",
      "To use the future default and silence this warning we advise to pass `rcond=None`, to keep using the old, explicitly pass `rcond=-1`.\n",
      "/home/users/alpv95/.local/lib/python3.6/site-packages/ipykernel_launcher.py:31: FutureWarning: `rcond` parameter will change to the default of machine precision times ``max(M, N)`` where M and N are the input matrix dimensions.\n",
      "To use the future default and silence this warning we advise to pass `rcond=None`, to keep using the old, explicitly pass `rcond=-1`.\n",
      "/home/users/alpv95/.local/lib/python3.6/site-packages/ipykernel_launcher.py:22: FutureWarning: `rcond` parameter will change to the default of machine precision times ``max(M, N)`` where M and N are the input matrix dimensions.\n",
      "To use the future default and silence this warning we advise to pass `rcond=None`, to keep using the old, explicitly pass `rcond=-1`.\n",
      "/home/users/alpv95/.local/lib/python3.6/site-packages/ipykernel_launcher.py:31: FutureWarning: `rcond` parameter will change to the default of machine precision times ``max(M, N)`` where M and N are the input matrix dimensions.\n",
      "To use the future default and silence this warning we advise to pass `rcond=None`, to keep using the old, explicitly pass `rcond=-1`.\n",
      "/home/users/alpv95/.local/lib/python3.6/site-packages/ipykernel_launcher.py:22: FutureWarning: `rcond` parameter will change to the default of machine precision times ``max(M, N)`` where M and N are the input matrix dimensions.\n",
      "To use the future default and silence this warning we advise to pass `rcond=None`, to keep using the old, explicitly pass `rcond=-1`.\n",
      "/home/users/alpv95/.local/lib/python3.6/site-packages/ipykernel_launcher.py:31: FutureWarning: `rcond` parameter will change to the default of machine precision times ``max(M, N)`` where M and N are the input matrix dimensions.\n",
      "To use the future default and silence this warning we advise to pass `rcond=None`, to keep using the old, explicitly pass `rcond=-1`.\n"
     ]
    },
    {
     "name": "stdout",
     "output_type": "stream",
     "text": [
      "DONE!\n",
      "(array([7.56325348]), (0.6673333333333333, 0.33366666666666667, -0.44444444444444464, 20.0, -1.0, 8.076939621133738, 63.1855945913242, array([1.54726268e-07, 5.35357739e-01]), -0.4683320839778235))\n",
      "32\n",
      "STARTING...\n"
     ]
    },
    {
     "name": "stderr",
     "output_type": "stream",
     "text": [
      "/home/users/alpv95/.local/lib/python3.6/site-packages/ipykernel_launcher.py:22: FutureWarning: `rcond` parameter will change to the default of machine precision times ``max(M, N)`` where M and N are the input matrix dimensions.\n",
      "To use the future default and silence this warning we advise to pass `rcond=None`, to keep using the old, explicitly pass `rcond=-1`.\n",
      "/home/users/alpv95/.local/lib/python3.6/site-packages/ipykernel_launcher.py:31: FutureWarning: `rcond` parameter will change to the default of machine precision times ``max(M, N)`` where M and N are the input matrix dimensions.\n",
      "To use the future default and silence this warning we advise to pass `rcond=None`, to keep using the old, explicitly pass `rcond=-1`.\n",
      "/home/users/alpv95/.local/lib/python3.6/site-packages/ipykernel_launcher.py:22: FutureWarning: `rcond` parameter will change to the default of machine precision times ``max(M, N)`` where M and N are the input matrix dimensions.\n",
      "To use the future default and silence this warning we advise to pass `rcond=None`, to keep using the old, explicitly pass `rcond=-1`.\n",
      "/home/users/alpv95/.local/lib/python3.6/site-packages/ipykernel_launcher.py:31: FutureWarning: `rcond` parameter will change to the default of machine precision times ``max(M, N)`` where M and N are the input matrix dimensions.\n",
      "To use the future default and silence this warning we advise to pass `rcond=None`, to keep using the old, explicitly pass `rcond=-1`.\n",
      "/home/users/alpv95/.local/lib/python3.6/site-packages/ipykernel_launcher.py:22: FutureWarning: `rcond` parameter will change to the default of machine precision times ``max(M, N)`` where M and N are the input matrix dimensions.\n",
      "To use the future default and silence this warning we advise to pass `rcond=None`, to keep using the old, explicitly pass `rcond=-1`.\n",
      "/home/users/alpv95/.local/lib/python3.6/site-packages/ipykernel_launcher.py:31: FutureWarning: `rcond` parameter will change to the default of machine precision times ``max(M, N)`` where M and N are the input matrix dimensions.\n",
      "To use the future default and silence this warning we advise to pass `rcond=None`, to keep using the old, explicitly pass `rcond=-1`.\n",
      "/home/users/alpv95/.local/lib/python3.6/site-packages/ipykernel_launcher.py:22: FutureWarning: `rcond` parameter will change to the default of machine precision times ``max(M, N)`` where M and N are the input matrix dimensions.\n",
      "To use the future default and silence this warning we advise to pass `rcond=None`, to keep using the old, explicitly pass `rcond=-1`.\n",
      "/home/users/alpv95/.local/lib/python3.6/site-packages/ipykernel_launcher.py:31: FutureWarning: `rcond` parameter will change to the default of machine precision times ``max(M, N)`` where M and N are the input matrix dimensions.\n",
      "To use the future default and silence this warning we advise to pass `rcond=None`, to keep using the old, explicitly pass `rcond=-1`.\n",
      "/home/users/alpv95/.local/lib/python3.6/site-packages/ipykernel_launcher.py:22: FutureWarning: `rcond` parameter will change to the default of machine precision times ``max(M, N)`` where M and N are the input matrix dimensions.\n",
      "To use the future default and silence this warning we advise to pass `rcond=None`, to keep using the old, explicitly pass `rcond=-1`.\n",
      "/home/users/alpv95/.local/lib/python3.6/site-packages/ipykernel_launcher.py:31: FutureWarning: `rcond` parameter will change to the default of machine precision times ``max(M, N)`` where M and N are the input matrix dimensions.\n",
      "To use the future default and silence this warning we advise to pass `rcond=None`, to keep using the old, explicitly pass `rcond=-1`.\n",
      "/home/users/alpv95/.local/lib/python3.6/site-packages/ipykernel_launcher.py:22: FutureWarning: `rcond` parameter will change to the default of machine precision times ``max(M, N)`` where M and N are the input matrix dimensions.\n",
      "To use the future default and silence this warning we advise to pass `rcond=None`, to keep using the old, explicitly pass `rcond=-1`.\n",
      "/home/users/alpv95/.local/lib/python3.6/site-packages/ipykernel_launcher.py:31: FutureWarning: `rcond` parameter will change to the default of machine precision times ``max(M, N)`` where M and N are the input matrix dimensions.\n",
      "To use the future default and silence this warning we advise to pass `rcond=None`, to keep using the old, explicitly pass `rcond=-1`.\n",
      "/home/users/alpv95/.local/lib/python3.6/site-packages/ipykernel_launcher.py:22: FutureWarning: `rcond` parameter will change to the default of machine precision times ``max(M, N)`` where M and N are the input matrix dimensions.\n",
      "To use the future default and silence this warning we advise to pass `rcond=None`, to keep using the old, explicitly pass `rcond=-1`.\n",
      "/home/users/alpv95/.local/lib/python3.6/site-packages/ipykernel_launcher.py:31: FutureWarning: `rcond` parameter will change to the default of machine precision times ``max(M, N)`` where M and N are the input matrix dimensions.\n",
      "To use the future default and silence this warning we advise to pass `rcond=None`, to keep using the old, explicitly pass `rcond=-1`.\n",
      "/home/users/alpv95/.local/lib/python3.6/site-packages/ipykernel_launcher.py:22: FutureWarning: `rcond` parameter will change to the default of machine precision times ``max(M, N)`` where M and N are the input matrix dimensions.\n",
      "To use the future default and silence this warning we advise to pass `rcond=None`, to keep using the old, explicitly pass `rcond=-1`.\n",
      "/home/users/alpv95/.local/lib/python3.6/site-packages/ipykernel_launcher.py:31: FutureWarning: `rcond` parameter will change to the default of machine precision times ``max(M, N)`` where M and N are the input matrix dimensions.\n",
      "To use the future default and silence this warning we advise to pass `rcond=None`, to keep using the old, explicitly pass `rcond=-1`.\n",
      "/home/users/alpv95/.local/lib/python3.6/site-packages/ipykernel_launcher.py:22: FutureWarning: `rcond` parameter will change to the default of machine precision times ``max(M, N)`` where M and N are the input matrix dimensions.\n",
      "To use the future default and silence this warning we advise to pass `rcond=None`, to keep using the old, explicitly pass `rcond=-1`.\n",
      "/home/users/alpv95/.local/lib/python3.6/site-packages/ipykernel_launcher.py:31: FutureWarning: `rcond` parameter will change to the default of machine precision times ``max(M, N)`` where M and N are the input matrix dimensions.\n",
      "To use the future default and silence this warning we advise to pass `rcond=None`, to keep using the old, explicitly pass `rcond=-1`.\n",
      "/home/users/alpv95/.local/lib/python3.6/site-packages/ipykernel_launcher.py:22: FutureWarning: `rcond` parameter will change to the default of machine precision times ``max(M, N)`` where M and N are the input matrix dimensions.\n",
      "To use the future default and silence this warning we advise to pass `rcond=None`, to keep using the old, explicitly pass `rcond=-1`.\n",
      "/home/users/alpv95/.local/lib/python3.6/site-packages/ipykernel_launcher.py:31: FutureWarning: `rcond` parameter will change to the default of machine precision times ``max(M, N)`` where M and N are the input matrix dimensions.\n",
      "To use the future default and silence this warning we advise to pass `rcond=None`, to keep using the old, explicitly pass `rcond=-1`.\n",
      "/home/users/alpv95/.local/lib/python3.6/site-packages/ipykernel_launcher.py:22: FutureWarning: `rcond` parameter will change to the default of machine precision times ``max(M, N)`` where M and N are the input matrix dimensions.\n",
      "To use the future default and silence this warning we advise to pass `rcond=None`, to keep using the old, explicitly pass `rcond=-1`.\n",
      "/home/users/alpv95/.local/lib/python3.6/site-packages/ipykernel_launcher.py:31: FutureWarning: `rcond` parameter will change to the default of machine precision times ``max(M, N)`` where M and N are the input matrix dimensions.\n",
      "To use the future default and silence this warning we advise to pass `rcond=None`, to keep using the old, explicitly pass `rcond=-1`.\n",
      "/home/users/alpv95/.local/lib/python3.6/site-packages/ipykernel_launcher.py:22: FutureWarning: `rcond` parameter will change to the default of machine precision times ``max(M, N)`` where M and N are the input matrix dimensions.\n",
      "To use the future default and silence this warning we advise to pass `rcond=None`, to keep using the old, explicitly pass `rcond=-1`.\n"
     ]
    },
    {
     "name": "stderr",
     "output_type": "stream",
     "text": [
      "/home/users/alpv95/.local/lib/python3.6/site-packages/ipykernel_launcher.py:31: FutureWarning: `rcond` parameter will change to the default of machine precision times ``max(M, N)`` where M and N are the input matrix dimensions.\n",
      "To use the future default and silence this warning we advise to pass `rcond=None`, to keep using the old, explicitly pass `rcond=-1`.\n",
      "/home/users/alpv95/.local/lib/python3.6/site-packages/ipykernel_launcher.py:22: FutureWarning: `rcond` parameter will change to the default of machine precision times ``max(M, N)`` where M and N are the input matrix dimensions.\n",
      "To use the future default and silence this warning we advise to pass `rcond=None`, to keep using the old, explicitly pass `rcond=-1`.\n",
      "/home/users/alpv95/.local/lib/python3.6/site-packages/ipykernel_launcher.py:31: FutureWarning: `rcond` parameter will change to the default of machine precision times ``max(M, N)`` where M and N are the input matrix dimensions.\n",
      "To use the future default and silence this warning we advise to pass `rcond=None`, to keep using the old, explicitly pass `rcond=-1`.\n",
      "/home/users/alpv95/.local/lib/python3.6/site-packages/ipykernel_launcher.py:22: FutureWarning: `rcond` parameter will change to the default of machine precision times ``max(M, N)`` where M and N are the input matrix dimensions.\n",
      "To use the future default and silence this warning we advise to pass `rcond=None`, to keep using the old, explicitly pass `rcond=-1`.\n",
      "/home/users/alpv95/.local/lib/python3.6/site-packages/ipykernel_launcher.py:31: FutureWarning: `rcond` parameter will change to the default of machine precision times ``max(M, N)`` where M and N are the input matrix dimensions.\n",
      "To use the future default and silence this warning we advise to pass `rcond=None`, to keep using the old, explicitly pass `rcond=-1`.\n",
      "/home/users/alpv95/.local/lib/python3.6/site-packages/ipykernel_launcher.py:22: FutureWarning: `rcond` parameter will change to the default of machine precision times ``max(M, N)`` where M and N are the input matrix dimensions.\n",
      "To use the future default and silence this warning we advise to pass `rcond=None`, to keep using the old, explicitly pass `rcond=-1`.\n",
      "/home/users/alpv95/.local/lib/python3.6/site-packages/ipykernel_launcher.py:31: FutureWarning: `rcond` parameter will change to the default of machine precision times ``max(M, N)`` where M and N are the input matrix dimensions.\n",
      "To use the future default and silence this warning we advise to pass `rcond=None`, to keep using the old, explicitly pass `rcond=-1`.\n",
      "/home/users/alpv95/.local/lib/python3.6/site-packages/ipykernel_launcher.py:22: FutureWarning: `rcond` parameter will change to the default of machine precision times ``max(M, N)`` where M and N are the input matrix dimensions.\n",
      "To use the future default and silence this warning we advise to pass `rcond=None`, to keep using the old, explicitly pass `rcond=-1`.\n",
      "/home/users/alpv95/.local/lib/python3.6/site-packages/ipykernel_launcher.py:31: FutureWarning: `rcond` parameter will change to the default of machine precision times ``max(M, N)`` where M and N are the input matrix dimensions.\n",
      "To use the future default and silence this warning we advise to pass `rcond=None`, to keep using the old, explicitly pass `rcond=-1`.\n",
      "/home/users/alpv95/.local/lib/python3.6/site-packages/ipykernel_launcher.py:22: FutureWarning: `rcond` parameter will change to the default of machine precision times ``max(M, N)`` where M and N are the input matrix dimensions.\n",
      "To use the future default and silence this warning we advise to pass `rcond=None`, to keep using the old, explicitly pass `rcond=-1`.\n",
      "/home/users/alpv95/.local/lib/python3.6/site-packages/ipykernel_launcher.py:31: FutureWarning: `rcond` parameter will change to the default of machine precision times ``max(M, N)`` where M and N are the input matrix dimensions.\n",
      "To use the future default and silence this warning we advise to pass `rcond=None`, to keep using the old, explicitly pass `rcond=-1`.\n",
      "/home/users/alpv95/.local/lib/python3.6/site-packages/ipykernel_launcher.py:22: FutureWarning: `rcond` parameter will change to the default of machine precision times ``max(M, N)`` where M and N are the input matrix dimensions.\n",
      "To use the future default and silence this warning we advise to pass `rcond=None`, to keep using the old, explicitly pass `rcond=-1`.\n",
      "/home/users/alpv95/.local/lib/python3.6/site-packages/ipykernel_launcher.py:31: FutureWarning: `rcond` parameter will change to the default of machine precision times ``max(M, N)`` where M and N are the input matrix dimensions.\n",
      "To use the future default and silence this warning we advise to pass `rcond=None`, to keep using the old, explicitly pass `rcond=-1`.\n",
      "/home/users/alpv95/.local/lib/python3.6/site-packages/ipykernel_launcher.py:22: FutureWarning: `rcond` parameter will change to the default of machine precision times ``max(M, N)`` where M and N are the input matrix dimensions.\n",
      "To use the future default and silence this warning we advise to pass `rcond=None`, to keep using the old, explicitly pass `rcond=-1`.\n",
      "/home/users/alpv95/.local/lib/python3.6/site-packages/ipykernel_launcher.py:31: FutureWarning: `rcond` parameter will change to the default of machine precision times ``max(M, N)`` where M and N are the input matrix dimensions.\n",
      "To use the future default and silence this warning we advise to pass `rcond=None`, to keep using the old, explicitly pass `rcond=-1`.\n",
      "/home/users/alpv95/.local/lib/python3.6/site-packages/ipykernel_launcher.py:22: FutureWarning: `rcond` parameter will change to the default of machine precision times ``max(M, N)`` where M and N are the input matrix dimensions.\n",
      "To use the future default and silence this warning we advise to pass `rcond=None`, to keep using the old, explicitly pass `rcond=-1`.\n",
      "/home/users/alpv95/.local/lib/python3.6/site-packages/ipykernel_launcher.py:31: FutureWarning: `rcond` parameter will change to the default of machine precision times ``max(M, N)`` where M and N are the input matrix dimensions.\n",
      "To use the future default and silence this warning we advise to pass `rcond=None`, to keep using the old, explicitly pass `rcond=-1`.\n",
      "/home/users/alpv95/.local/lib/python3.6/site-packages/ipykernel_launcher.py:22: FutureWarning: `rcond` parameter will change to the default of machine precision times ``max(M, N)`` where M and N are the input matrix dimensions.\n",
      "To use the future default and silence this warning we advise to pass `rcond=None`, to keep using the old, explicitly pass `rcond=-1`.\n",
      "/home/users/alpv95/.local/lib/python3.6/site-packages/ipykernel_launcher.py:31: FutureWarning: `rcond` parameter will change to the default of machine precision times ``max(M, N)`` where M and N are the input matrix dimensions.\n",
      "To use the future default and silence this warning we advise to pass `rcond=None`, to keep using the old, explicitly pass `rcond=-1`.\n",
      "/home/users/alpv95/.local/lib/python3.6/site-packages/ipykernel_launcher.py:22: FutureWarning: `rcond` parameter will change to the default of machine precision times ``max(M, N)`` where M and N are the input matrix dimensions.\n",
      "To use the future default and silence this warning we advise to pass `rcond=None`, to keep using the old, explicitly pass `rcond=-1`.\n",
      "/home/users/alpv95/.local/lib/python3.6/site-packages/ipykernel_launcher.py:31: FutureWarning: `rcond` parameter will change to the default of machine precision times ``max(M, N)`` where M and N are the input matrix dimensions.\n",
      "To use the future default and silence this warning we advise to pass `rcond=None`, to keep using the old, explicitly pass `rcond=-1`.\n",
      "/home/users/alpv95/.local/lib/python3.6/site-packages/ipykernel_launcher.py:22: FutureWarning: `rcond` parameter will change to the default of machine precision times ``max(M, N)`` where M and N are the input matrix dimensions.\n",
      "To use the future default and silence this warning we advise to pass `rcond=None`, to keep using the old, explicitly pass `rcond=-1`.\n",
      "/home/users/alpv95/.local/lib/python3.6/site-packages/ipykernel_launcher.py:31: FutureWarning: `rcond` parameter will change to the default of machine precision times ``max(M, N)`` where M and N are the input matrix dimensions.\n",
      "To use the future default and silence this warning we advise to pass `rcond=None`, to keep using the old, explicitly pass `rcond=-1`.\n"
     ]
    },
    {
     "name": "stderr",
     "output_type": "stream",
     "text": [
      "/home/users/alpv95/.local/lib/python3.6/site-packages/ipykernel_launcher.py:22: FutureWarning: `rcond` parameter will change to the default of machine precision times ``max(M, N)`` where M and N are the input matrix dimensions.\n",
      "To use the future default and silence this warning we advise to pass `rcond=None`, to keep using the old, explicitly pass `rcond=-1`.\n",
      "/home/users/alpv95/.local/lib/python3.6/site-packages/ipykernel_launcher.py:31: FutureWarning: `rcond` parameter will change to the default of machine precision times ``max(M, N)`` where M and N are the input matrix dimensions.\n",
      "To use the future default and silence this warning we advise to pass `rcond=None`, to keep using the old, explicitly pass `rcond=-1`.\n",
      "/home/users/alpv95/.local/lib/python3.6/site-packages/ipykernel_launcher.py:22: FutureWarning: `rcond` parameter will change to the default of machine precision times ``max(M, N)`` where M and N are the input matrix dimensions.\n",
      "To use the future default and silence this warning we advise to pass `rcond=None`, to keep using the old, explicitly pass `rcond=-1`.\n",
      "/home/users/alpv95/.local/lib/python3.6/site-packages/ipykernel_launcher.py:31: FutureWarning: `rcond` parameter will change to the default of machine precision times ``max(M, N)`` where M and N are the input matrix dimensions.\n",
      "To use the future default and silence this warning we advise to pass `rcond=None`, to keep using the old, explicitly pass `rcond=-1`.\n",
      "/home/users/alpv95/.local/lib/python3.6/site-packages/ipykernel_launcher.py:31: FutureWarning: `rcond` parameter will change to the default of machine precision times ``max(M, N)`` where M and N are the input matrix dimensions.\n",
      "To use the future default and silence this warning we advise to pass `rcond=None`, to keep using the old, explicitly pass `rcond=-1`.\n",
      "/home/users/alpv95/.local/lib/python3.6/site-packages/ipykernel_launcher.py:22: FutureWarning: `rcond` parameter will change to the default of machine precision times ``max(M, N)`` where M and N are the input matrix dimensions.\n",
      "To use the future default and silence this warning we advise to pass `rcond=None`, to keep using the old, explicitly pass `rcond=-1`.\n",
      "/home/users/alpv95/.local/lib/python3.6/site-packages/ipykernel_launcher.py:22: FutureWarning: `rcond` parameter will change to the default of machine precision times ``max(M, N)`` where M and N are the input matrix dimensions.\n",
      "To use the future default and silence this warning we advise to pass `rcond=None`, to keep using the old, explicitly pass `rcond=-1`.\n",
      "/home/users/alpv95/.local/lib/python3.6/site-packages/ipykernel_launcher.py:31: FutureWarning: `rcond` parameter will change to the default of machine precision times ``max(M, N)`` where M and N are the input matrix dimensions.\n",
      "To use the future default and silence this warning we advise to pass `rcond=None`, to keep using the old, explicitly pass `rcond=-1`.\n",
      "/home/users/alpv95/.local/lib/python3.6/site-packages/ipykernel_launcher.py:22: FutureWarning: `rcond` parameter will change to the default of machine precision times ``max(M, N)`` where M and N are the input matrix dimensions.\n",
      "To use the future default and silence this warning we advise to pass `rcond=None`, to keep using the old, explicitly pass `rcond=-1`.\n",
      "/home/users/alpv95/.local/lib/python3.6/site-packages/ipykernel_launcher.py:31: FutureWarning: `rcond` parameter will change to the default of machine precision times ``max(M, N)`` where M and N are the input matrix dimensions.\n",
      "To use the future default and silence this warning we advise to pass `rcond=None`, to keep using the old, explicitly pass `rcond=-1`.\n",
      "/home/users/alpv95/.local/lib/python3.6/site-packages/ipykernel_launcher.py:22: FutureWarning: `rcond` parameter will change to the default of machine precision times ``max(M, N)`` where M and N are the input matrix dimensions.\n",
      "To use the future default and silence this warning we advise to pass `rcond=None`, to keep using the old, explicitly pass `rcond=-1`.\n",
      "/home/users/alpv95/.local/lib/python3.6/site-packages/ipykernel_launcher.py:31: FutureWarning: `rcond` parameter will change to the default of machine precision times ``max(M, N)`` where M and N are the input matrix dimensions.\n",
      "To use the future default and silence this warning we advise to pass `rcond=None`, to keep using the old, explicitly pass `rcond=-1`.\n",
      "/home/users/alpv95/.local/lib/python3.6/site-packages/ipykernel_launcher.py:22: FutureWarning: `rcond` parameter will change to the default of machine precision times ``max(M, N)`` where M and N are the input matrix dimensions.\n",
      "To use the future default and silence this warning we advise to pass `rcond=None`, to keep using the old, explicitly pass `rcond=-1`.\n",
      "/home/users/alpv95/.local/lib/python3.6/site-packages/ipykernel_launcher.py:31: FutureWarning: `rcond` parameter will change to the default of machine precision times ``max(M, N)`` where M and N are the input matrix dimensions.\n",
      "To use the future default and silence this warning we advise to pass `rcond=None`, to keep using the old, explicitly pass `rcond=-1`.\n",
      "/home/users/alpv95/.local/lib/python3.6/site-packages/ipykernel_launcher.py:22: FutureWarning: `rcond` parameter will change to the default of machine precision times ``max(M, N)`` where M and N are the input matrix dimensions.\n",
      "To use the future default and silence this warning we advise to pass `rcond=None`, to keep using the old, explicitly pass `rcond=-1`.\n",
      "/home/users/alpv95/.local/lib/python3.6/site-packages/ipykernel_launcher.py:31: FutureWarning: `rcond` parameter will change to the default of machine precision times ``max(M, N)`` where M and N are the input matrix dimensions.\n",
      "To use the future default and silence this warning we advise to pass `rcond=None`, to keep using the old, explicitly pass `rcond=-1`.\n",
      "/home/users/alpv95/.local/lib/python3.6/site-packages/ipykernel_launcher.py:22: FutureWarning: `rcond` parameter will change to the default of machine precision times ``max(M, N)`` where M and N are the input matrix dimensions.\n",
      "To use the future default and silence this warning we advise to pass `rcond=None`, to keep using the old, explicitly pass `rcond=-1`.\n",
      "/home/users/alpv95/.local/lib/python3.6/site-packages/ipykernel_launcher.py:31: FutureWarning: `rcond` parameter will change to the default of machine precision times ``max(M, N)`` where M and N are the input matrix dimensions.\n",
      "To use the future default and silence this warning we advise to pass `rcond=None`, to keep using the old, explicitly pass `rcond=-1`.\n"
     ]
    },
    {
     "name": "stdout",
     "output_type": "stream",
     "text": [
      "DONE!\n",
      "(array([0.1121922]), (0.44522222222222224, 0.001, -0.44444444444444464, -100.0, 1.0, 7.356946468295639, 65.07827070998327, array([-1.74881297e-08,  5.31243886e-01]), -0.6564116262913184))\n",
      "32\n",
      "STARTING...\n"
     ]
    },
    {
     "name": "stderr",
     "output_type": "stream",
     "text": [
      "/home/users/alpv95/.local/lib/python3.6/site-packages/ipykernel_launcher.py:22: FutureWarning: `rcond` parameter will change to the default of machine precision times ``max(M, N)`` where M and N are the input matrix dimensions.\n",
      "To use the future default and silence this warning we advise to pass `rcond=None`, to keep using the old, explicitly pass `rcond=-1`.\n",
      "/home/users/alpv95/.local/lib/python3.6/site-packages/ipykernel_launcher.py:31: FutureWarning: `rcond` parameter will change to the default of machine precision times ``max(M, N)`` where M and N are the input matrix dimensions.\n",
      "To use the future default and silence this warning we advise to pass `rcond=None`, to keep using the old, explicitly pass `rcond=-1`.\n",
      "/home/users/alpv95/.local/lib/python3.6/site-packages/ipykernel_launcher.py:22: FutureWarning: `rcond` parameter will change to the default of machine precision times ``max(M, N)`` where M and N are the input matrix dimensions.\n",
      "To use the future default and silence this warning we advise to pass `rcond=None`, to keep using the old, explicitly pass `rcond=-1`.\n",
      "/home/users/alpv95/.local/lib/python3.6/site-packages/ipykernel_launcher.py:31: FutureWarning: `rcond` parameter will change to the default of machine precision times ``max(M, N)`` where M and N are the input matrix dimensions.\n",
      "To use the future default and silence this warning we advise to pass `rcond=None`, to keep using the old, explicitly pass `rcond=-1`.\n",
      "/home/users/alpv95/.local/lib/python3.6/site-packages/ipykernel_launcher.py:22: FutureWarning: `rcond` parameter will change to the default of machine precision times ``max(M, N)`` where M and N are the input matrix dimensions.\n",
      "To use the future default and silence this warning we advise to pass `rcond=None`, to keep using the old, explicitly pass `rcond=-1`.\n",
      "/home/users/alpv95/.local/lib/python3.6/site-packages/ipykernel_launcher.py:31: FutureWarning: `rcond` parameter will change to the default of machine precision times ``max(M, N)`` where M and N are the input matrix dimensions.\n",
      "To use the future default and silence this warning we advise to pass `rcond=None`, to keep using the old, explicitly pass `rcond=-1`.\n",
      "/home/users/alpv95/.local/lib/python3.6/site-packages/ipykernel_launcher.py:22: FutureWarning: `rcond` parameter will change to the default of machine precision times ``max(M, N)`` where M and N are the input matrix dimensions.\n",
      "To use the future default and silence this warning we advise to pass `rcond=None`, to keep using the old, explicitly pass `rcond=-1`.\n",
      "/home/users/alpv95/.local/lib/python3.6/site-packages/ipykernel_launcher.py:31: FutureWarning: `rcond` parameter will change to the default of machine precision times ``max(M, N)`` where M and N are the input matrix dimensions.\n",
      "To use the future default and silence this warning we advise to pass `rcond=None`, to keep using the old, explicitly pass `rcond=-1`.\n",
      "/home/users/alpv95/.local/lib/python3.6/site-packages/ipykernel_launcher.py:22: FutureWarning: `rcond` parameter will change to the default of machine precision times ``max(M, N)`` where M and N are the input matrix dimensions.\n",
      "To use the future default and silence this warning we advise to pass `rcond=None`, to keep using the old, explicitly pass `rcond=-1`.\n",
      "/home/users/alpv95/.local/lib/python3.6/site-packages/ipykernel_launcher.py:31: FutureWarning: `rcond` parameter will change to the default of machine precision times ``max(M, N)`` where M and N are the input matrix dimensions.\n",
      "To use the future default and silence this warning we advise to pass `rcond=None`, to keep using the old, explicitly pass `rcond=-1`.\n",
      "/home/users/alpv95/.local/lib/python3.6/site-packages/ipykernel_launcher.py:22: FutureWarning: `rcond` parameter will change to the default of machine precision times ``max(M, N)`` where M and N are the input matrix dimensions.\n",
      "To use the future default and silence this warning we advise to pass `rcond=None`, to keep using the old, explicitly pass `rcond=-1`.\n",
      "/home/users/alpv95/.local/lib/python3.6/site-packages/ipykernel_launcher.py:31: FutureWarning: `rcond` parameter will change to the default of machine precision times ``max(M, N)`` where M and N are the input matrix dimensions.\n",
      "To use the future default and silence this warning we advise to pass `rcond=None`, to keep using the old, explicitly pass `rcond=-1`.\n",
      "/home/users/alpv95/.local/lib/python3.6/site-packages/ipykernel_launcher.py:22: FutureWarning: `rcond` parameter will change to the default of machine precision times ``max(M, N)`` where M and N are the input matrix dimensions.\n",
      "To use the future default and silence this warning we advise to pass `rcond=None`, to keep using the old, explicitly pass `rcond=-1`.\n",
      "/home/users/alpv95/.local/lib/python3.6/site-packages/ipykernel_launcher.py:31: FutureWarning: `rcond` parameter will change to the default of machine precision times ``max(M, N)`` where M and N are the input matrix dimensions.\n",
      "To use the future default and silence this warning we advise to pass `rcond=None`, to keep using the old, explicitly pass `rcond=-1`.\n",
      "/home/users/alpv95/.local/lib/python3.6/site-packages/ipykernel_launcher.py:22: FutureWarning: `rcond` parameter will change to the default of machine precision times ``max(M, N)`` where M and N are the input matrix dimensions.\n",
      "To use the future default and silence this warning we advise to pass `rcond=None`, to keep using the old, explicitly pass `rcond=-1`.\n",
      "/home/users/alpv95/.local/lib/python3.6/site-packages/ipykernel_launcher.py:31: FutureWarning: `rcond` parameter will change to the default of machine precision times ``max(M, N)`` where M and N are the input matrix dimensions.\n",
      "To use the future default and silence this warning we advise to pass `rcond=None`, to keep using the old, explicitly pass `rcond=-1`.\n",
      "/home/users/alpv95/.local/lib/python3.6/site-packages/ipykernel_launcher.py:22: FutureWarning: `rcond` parameter will change to the default of machine precision times ``max(M, N)`` where M and N are the input matrix dimensions.\n",
      "To use the future default and silence this warning we advise to pass `rcond=None`, to keep using the old, explicitly pass `rcond=-1`.\n",
      "/home/users/alpv95/.local/lib/python3.6/site-packages/ipykernel_launcher.py:31: FutureWarning: `rcond` parameter will change to the default of machine precision times ``max(M, N)`` where M and N are the input matrix dimensions.\n",
      "To use the future default and silence this warning we advise to pass `rcond=None`, to keep using the old, explicitly pass `rcond=-1`.\n",
      "/home/users/alpv95/.local/lib/python3.6/site-packages/ipykernel_launcher.py:22: FutureWarning: `rcond` parameter will change to the default of machine precision times ``max(M, N)`` where M and N are the input matrix dimensions.\n",
      "To use the future default and silence this warning we advise to pass `rcond=None`, to keep using the old, explicitly pass `rcond=-1`.\n",
      "/home/users/alpv95/.local/lib/python3.6/site-packages/ipykernel_launcher.py:31: FutureWarning: `rcond` parameter will change to the default of machine precision times ``max(M, N)`` where M and N are the input matrix dimensions.\n",
      "To use the future default and silence this warning we advise to pass `rcond=None`, to keep using the old, explicitly pass `rcond=-1`.\n",
      "/home/users/alpv95/.local/lib/python3.6/site-packages/ipykernel_launcher.py:22: FutureWarning: `rcond` parameter will change to the default of machine precision times ``max(M, N)`` where M and N are the input matrix dimensions.\n",
      "To use the future default and silence this warning we advise to pass `rcond=None`, to keep using the old, explicitly pass `rcond=-1`.\n",
      "/home/users/alpv95/.local/lib/python3.6/site-packages/ipykernel_launcher.py:31: FutureWarning: `rcond` parameter will change to the default of machine precision times ``max(M, N)`` where M and N are the input matrix dimensions.\n",
      "To use the future default and silence this warning we advise to pass `rcond=None`, to keep using the old, explicitly pass `rcond=-1`.\n",
      "/home/users/alpv95/.local/lib/python3.6/site-packages/ipykernel_launcher.py:22: FutureWarning: `rcond` parameter will change to the default of machine precision times ``max(M, N)`` where M and N are the input matrix dimensions.\n",
      "To use the future default and silence this warning we advise to pass `rcond=None`, to keep using the old, explicitly pass `rcond=-1`.\n"
     ]
    },
    {
     "name": "stderr",
     "output_type": "stream",
     "text": [
      "/home/users/alpv95/.local/lib/python3.6/site-packages/ipykernel_launcher.py:31: FutureWarning: `rcond` parameter will change to the default of machine precision times ``max(M, N)`` where M and N are the input matrix dimensions.\n",
      "To use the future default and silence this warning we advise to pass `rcond=None`, to keep using the old, explicitly pass `rcond=-1`.\n",
      "/home/users/alpv95/.local/lib/python3.6/site-packages/ipykernel_launcher.py:22: FutureWarning: `rcond` parameter will change to the default of machine precision times ``max(M, N)`` where M and N are the input matrix dimensions.\n",
      "To use the future default and silence this warning we advise to pass `rcond=None`, to keep using the old, explicitly pass `rcond=-1`.\n",
      "/home/users/alpv95/.local/lib/python3.6/site-packages/ipykernel_launcher.py:31: FutureWarning: `rcond` parameter will change to the default of machine precision times ``max(M, N)`` where M and N are the input matrix dimensions.\n",
      "To use the future default and silence this warning we advise to pass `rcond=None`, to keep using the old, explicitly pass `rcond=-1`.\n",
      "/home/users/alpv95/.local/lib/python3.6/site-packages/ipykernel_launcher.py:22: FutureWarning: `rcond` parameter will change to the default of machine precision times ``max(M, N)`` where M and N are the input matrix dimensions.\n",
      "To use the future default and silence this warning we advise to pass `rcond=None`, to keep using the old, explicitly pass `rcond=-1`.\n",
      "/home/users/alpv95/.local/lib/python3.6/site-packages/ipykernel_launcher.py:31: FutureWarning: `rcond` parameter will change to the default of machine precision times ``max(M, N)`` where M and N are the input matrix dimensions.\n",
      "To use the future default and silence this warning we advise to pass `rcond=None`, to keep using the old, explicitly pass `rcond=-1`.\n",
      "/home/users/alpv95/.local/lib/python3.6/site-packages/ipykernel_launcher.py:22: FutureWarning: `rcond` parameter will change to the default of machine precision times ``max(M, N)`` where M and N are the input matrix dimensions.\n",
      "To use the future default and silence this warning we advise to pass `rcond=None`, to keep using the old, explicitly pass `rcond=-1`.\n",
      "/home/users/alpv95/.local/lib/python3.6/site-packages/ipykernel_launcher.py:31: FutureWarning: `rcond` parameter will change to the default of machine precision times ``max(M, N)`` where M and N are the input matrix dimensions.\n",
      "To use the future default and silence this warning we advise to pass `rcond=None`, to keep using the old, explicitly pass `rcond=-1`.\n",
      "/home/users/alpv95/.local/lib/python3.6/site-packages/ipykernel_launcher.py:22: FutureWarning: `rcond` parameter will change to the default of machine precision times ``max(M, N)`` where M and N are the input matrix dimensions.\n",
      "To use the future default and silence this warning we advise to pass `rcond=None`, to keep using the old, explicitly pass `rcond=-1`.\n",
      "/home/users/alpv95/.local/lib/python3.6/site-packages/ipykernel_launcher.py:31: FutureWarning: `rcond` parameter will change to the default of machine precision times ``max(M, N)`` where M and N are the input matrix dimensions.\n",
      "To use the future default and silence this warning we advise to pass `rcond=None`, to keep using the old, explicitly pass `rcond=-1`.\n",
      "/home/users/alpv95/.local/lib/python3.6/site-packages/ipykernel_launcher.py:22: FutureWarning: `rcond` parameter will change to the default of machine precision times ``max(M, N)`` where M and N are the input matrix dimensions.\n",
      "To use the future default and silence this warning we advise to pass `rcond=None`, to keep using the old, explicitly pass `rcond=-1`.\n",
      "/home/users/alpv95/.local/lib/python3.6/site-packages/ipykernel_launcher.py:31: FutureWarning: `rcond` parameter will change to the default of machine precision times ``max(M, N)`` where M and N are the input matrix dimensions.\n",
      "To use the future default and silence this warning we advise to pass `rcond=None`, to keep using the old, explicitly pass `rcond=-1`.\n",
      "/home/users/alpv95/.local/lib/python3.6/site-packages/ipykernel_launcher.py:22: FutureWarning: `rcond` parameter will change to the default of machine precision times ``max(M, N)`` where M and N are the input matrix dimensions.\n",
      "To use the future default and silence this warning we advise to pass `rcond=None`, to keep using the old, explicitly pass `rcond=-1`.\n",
      "/home/users/alpv95/.local/lib/python3.6/site-packages/ipykernel_launcher.py:31: FutureWarning: `rcond` parameter will change to the default of machine precision times ``max(M, N)`` where M and N are the input matrix dimensions.\n",
      "To use the future default and silence this warning we advise to pass `rcond=None`, to keep using the old, explicitly pass `rcond=-1`.\n",
      "/home/users/alpv95/.local/lib/python3.6/site-packages/ipykernel_launcher.py:22: FutureWarning: `rcond` parameter will change to the default of machine precision times ``max(M, N)`` where M and N are the input matrix dimensions.\n",
      "To use the future default and silence this warning we advise to pass `rcond=None`, to keep using the old, explicitly pass `rcond=-1`.\n",
      "/home/users/alpv95/.local/lib/python3.6/site-packages/ipykernel_launcher.py:31: FutureWarning: `rcond` parameter will change to the default of machine precision times ``max(M, N)`` where M and N are the input matrix dimensions.\n",
      "To use the future default and silence this warning we advise to pass `rcond=None`, to keep using the old, explicitly pass `rcond=-1`.\n",
      "/home/users/alpv95/.local/lib/python3.6/site-packages/ipykernel_launcher.py:22: FutureWarning: `rcond` parameter will change to the default of machine precision times ``max(M, N)`` where M and N are the input matrix dimensions.\n",
      "To use the future default and silence this warning we advise to pass `rcond=None`, to keep using the old, explicitly pass `rcond=-1`.\n",
      "/home/users/alpv95/.local/lib/python3.6/site-packages/ipykernel_launcher.py:31: FutureWarning: `rcond` parameter will change to the default of machine precision times ``max(M, N)`` where M and N are the input matrix dimensions.\n",
      "To use the future default and silence this warning we advise to pass `rcond=None`, to keep using the old, explicitly pass `rcond=-1`.\n",
      "/home/users/alpv95/.local/lib/python3.6/site-packages/ipykernel_launcher.py:22: FutureWarning: `rcond` parameter will change to the default of machine precision times ``max(M, N)`` where M and N are the input matrix dimensions.\n",
      "To use the future default and silence this warning we advise to pass `rcond=None`, to keep using the old, explicitly pass `rcond=-1`.\n",
      "/home/users/alpv95/.local/lib/python3.6/site-packages/ipykernel_launcher.py:31: FutureWarning: `rcond` parameter will change to the default of machine precision times ``max(M, N)`` where M and N are the input matrix dimensions.\n",
      "To use the future default and silence this warning we advise to pass `rcond=None`, to keep using the old, explicitly pass `rcond=-1`.\n",
      "/home/users/alpv95/.local/lib/python3.6/site-packages/ipykernel_launcher.py:22: FutureWarning: `rcond` parameter will change to the default of machine precision times ``max(M, N)`` where M and N are the input matrix dimensions.\n",
      "To use the future default and silence this warning we advise to pass `rcond=None`, to keep using the old, explicitly pass `rcond=-1`.\n",
      "/home/users/alpv95/.local/lib/python3.6/site-packages/ipykernel_launcher.py:31: FutureWarning: `rcond` parameter will change to the default of machine precision times ``max(M, N)`` where M and N are the input matrix dimensions.\n",
      "To use the future default and silence this warning we advise to pass `rcond=None`, to keep using the old, explicitly pass `rcond=-1`.\n",
      "/home/users/alpv95/.local/lib/python3.6/site-packages/ipykernel_launcher.py:22: FutureWarning: `rcond` parameter will change to the default of machine precision times ``max(M, N)`` where M and N are the input matrix dimensions.\n",
      "To use the future default and silence this warning we advise to pass `rcond=None`, to keep using the old, explicitly pass `rcond=-1`.\n",
      "/home/users/alpv95/.local/lib/python3.6/site-packages/ipykernel_launcher.py:31: FutureWarning: `rcond` parameter will change to the default of machine precision times ``max(M, N)`` where M and N are the input matrix dimensions.\n",
      "To use the future default and silence this warning we advise to pass `rcond=None`, to keep using the old, explicitly pass `rcond=-1`.\n"
     ]
    },
    {
     "name": "stderr",
     "output_type": "stream",
     "text": [
      "/home/users/alpv95/.local/lib/python3.6/site-packages/ipykernel_launcher.py:22: FutureWarning: `rcond` parameter will change to the default of machine precision times ``max(M, N)`` where M and N are the input matrix dimensions.\n",
      "To use the future default and silence this warning we advise to pass `rcond=None`, to keep using the old, explicitly pass `rcond=-1`.\n",
      "/home/users/alpv95/.local/lib/python3.6/site-packages/ipykernel_launcher.py:31: FutureWarning: `rcond` parameter will change to the default of machine precision times ``max(M, N)`` where M and N are the input matrix dimensions.\n",
      "To use the future default and silence this warning we advise to pass `rcond=None`, to keep using the old, explicitly pass `rcond=-1`.\n",
      "/home/users/alpv95/.local/lib/python3.6/site-packages/ipykernel_launcher.py:22: FutureWarning: `rcond` parameter will change to the default of machine precision times ``max(M, N)`` where M and N are the input matrix dimensions.\n",
      "To use the future default and silence this warning we advise to pass `rcond=None`, to keep using the old, explicitly pass `rcond=-1`.\n",
      "/home/users/alpv95/.local/lib/python3.6/site-packages/ipykernel_launcher.py:31: FutureWarning: `rcond` parameter will change to the default of machine precision times ``max(M, N)`` where M and N are the input matrix dimensions.\n",
      "To use the future default and silence this warning we advise to pass `rcond=None`, to keep using the old, explicitly pass `rcond=-1`.\n",
      "/home/users/alpv95/.local/lib/python3.6/site-packages/ipykernel_launcher.py:22: FutureWarning: `rcond` parameter will change to the default of machine precision times ``max(M, N)`` where M and N are the input matrix dimensions.\n",
      "To use the future default and silence this warning we advise to pass `rcond=None`, to keep using the old, explicitly pass `rcond=-1`.\n",
      "/home/users/alpv95/.local/lib/python3.6/site-packages/ipykernel_launcher.py:31: FutureWarning: `rcond` parameter will change to the default of machine precision times ``max(M, N)`` where M and N are the input matrix dimensions.\n",
      "To use the future default and silence this warning we advise to pass `rcond=None`, to keep using the old, explicitly pass `rcond=-1`.\n",
      "/home/users/alpv95/.local/lib/python3.6/site-packages/ipykernel_launcher.py:22: FutureWarning: `rcond` parameter will change to the default of machine precision times ``max(M, N)`` where M and N are the input matrix dimensions.\n",
      "To use the future default and silence this warning we advise to pass `rcond=None`, to keep using the old, explicitly pass `rcond=-1`.\n",
      "/home/users/alpv95/.local/lib/python3.6/site-packages/ipykernel_launcher.py:31: FutureWarning: `rcond` parameter will change to the default of machine precision times ``max(M, N)`` where M and N are the input matrix dimensions.\n",
      "To use the future default and silence this warning we advise to pass `rcond=None`, to keep using the old, explicitly pass `rcond=-1`.\n",
      "/home/users/alpv95/.local/lib/python3.6/site-packages/ipykernel_launcher.py:22: FutureWarning: `rcond` parameter will change to the default of machine precision times ``max(M, N)`` where M and N are the input matrix dimensions.\n",
      "To use the future default and silence this warning we advise to pass `rcond=None`, to keep using the old, explicitly pass `rcond=-1`.\n",
      "/home/users/alpv95/.local/lib/python3.6/site-packages/ipykernel_launcher.py:31: FutureWarning: `rcond` parameter will change to the default of machine precision times ``max(M, N)`` where M and N are the input matrix dimensions.\n",
      "To use the future default and silence this warning we advise to pass `rcond=None`, to keep using the old, explicitly pass `rcond=-1`.\n",
      "/home/users/alpv95/.local/lib/python3.6/site-packages/ipykernel_launcher.py:22: FutureWarning: `rcond` parameter will change to the default of machine precision times ``max(M, N)`` where M and N are the input matrix dimensions.\n",
      "To use the future default and silence this warning we advise to pass `rcond=None`, to keep using the old, explicitly pass `rcond=-1`.\n",
      "/home/users/alpv95/.local/lib/python3.6/site-packages/ipykernel_launcher.py:31: FutureWarning: `rcond` parameter will change to the default of machine precision times ``max(M, N)`` where M and N are the input matrix dimensions.\n",
      "To use the future default and silence this warning we advise to pass `rcond=None`, to keep using the old, explicitly pass `rcond=-1`.\n",
      "/home/users/alpv95/.local/lib/python3.6/site-packages/ipykernel_launcher.py:22: FutureWarning: `rcond` parameter will change to the default of machine precision times ``max(M, N)`` where M and N are the input matrix dimensions.\n",
      "To use the future default and silence this warning we advise to pass `rcond=None`, to keep using the old, explicitly pass `rcond=-1`.\n",
      "/home/users/alpv95/.local/lib/python3.6/site-packages/ipykernel_launcher.py:31: FutureWarning: `rcond` parameter will change to the default of machine precision times ``max(M, N)`` where M and N are the input matrix dimensions.\n",
      "To use the future default and silence this warning we advise to pass `rcond=None`, to keep using the old, explicitly pass `rcond=-1`.\n",
      "/home/users/alpv95/.local/lib/python3.6/site-packages/ipykernel_launcher.py:22: FutureWarning: `rcond` parameter will change to the default of machine precision times ``max(M, N)`` where M and N are the input matrix dimensions.\n",
      "To use the future default and silence this warning we advise to pass `rcond=None`, to keep using the old, explicitly pass `rcond=-1`.\n",
      "/home/users/alpv95/.local/lib/python3.6/site-packages/ipykernel_launcher.py:31: FutureWarning: `rcond` parameter will change to the default of machine precision times ``max(M, N)`` where M and N are the input matrix dimensions.\n",
      "To use the future default and silence this warning we advise to pass `rcond=None`, to keep using the old, explicitly pass `rcond=-1`.\n",
      "/home/users/alpv95/.local/lib/python3.6/site-packages/ipykernel_launcher.py:22: FutureWarning: `rcond` parameter will change to the default of machine precision times ``max(M, N)`` where M and N are the input matrix dimensions.\n",
      "To use the future default and silence this warning we advise to pass `rcond=None`, to keep using the old, explicitly pass `rcond=-1`.\n",
      "/home/users/alpv95/.local/lib/python3.6/site-packages/ipykernel_launcher.py:31: FutureWarning: `rcond` parameter will change to the default of machine precision times ``max(M, N)`` where M and N are the input matrix dimensions.\n",
      "To use the future default and silence this warning we advise to pass `rcond=None`, to keep using the old, explicitly pass `rcond=-1`.\n"
     ]
    },
    {
     "name": "stdout",
     "output_type": "stream",
     "text": [
      "DONE!\n",
      "(array([0.34100164]), (0.6673333333333333, 0.44455555555555554, -0.44444444444444464, 140.0, -1.0, 11.518295815142933, 35.59938786510875, array([ 3.83553207e-07, -2.58199814e-01]), -0.5038924052735171))\n"
     ]
    }
   ],
   "source": [
    "final_results = []\n",
    "for datum in data[2:5]:\n",
    "    Day = datum[:,0]\n",
    "    Flux = datum[:,5]; Flux_err = datum[:,6]\n",
    "    PA = datum[:,3]; PA_err = datum[:,4]\n",
    "    Pi = datum[:,1] / 100; Pi_err = datum[:,2] / 100\n",
    "    deg = abs(max(PA) - min(PA)) / abs(max(Day) - min(Day))\n",
    "\n",
    "    delta = 1.0\n",
    "    delta1 = 0.001\n",
    "    delta2 = 0.001\n",
    "    def logL(X):\n",
    "        ratio, ratio_range, pitch, offset, sign, deg = X\n",
    "        pi_hat, pa_hat, p_hat = Jet(Day, ratio, ratio_range, pitch, offset, deg=deg, sign=sign, alpha=2, Gamma=10)\n",
    "        #Do linear regression to find optimal axis value here\n",
    "        b = np.ndarray.flatten(np.array([(np.cos(2*np.deg2rad(pa)),np.sin(2*np.deg2rad(pa))) for pa in PA]))\n",
    "        A = np.concatenate([np.array([[np.cos(2*np.deg2rad(pa)),-np.sin(2*np.deg2rad(pa))],\n",
    "                            [np.sin(2*np.deg2rad(pa)),np.cos(2*np.deg2rad(pa))]]) for pa in pa_hat],axis=0)\n",
    "        \n",
    "        w = np.ndarray.flatten(np.array([(err*2*np.sin(2*np.deg2rad(pa)),err*2*np.cos(2*np.deg2rad(pa))) for pa, err in zip(PA,PA_err)]))\n",
    "        w = np.diag(1 / w) #weighted least squares\n",
    "        x, loss_pa, _, _ = np.linalg.lstsq(np.matmul(w,A),np.matmul(w,b))\n",
    "        axis = np.arctan2(x[1],x[0]) / 2\n",
    "        Y = (ratio, ratio_range, pitch, offset, sign, np.rad2deg(axis))\n",
    "        #loss_pa = np.sum(abs(np.cos(2*np.deg2rad(PA)) - np.cos(2*np.deg2rad(pa_hat))) / PA_err\n",
    "                      #+ abs(np.sin(2*np.deg2rad(PA)) - np.sin(2*np.deg2rad(pa_hat))) / PA_err )\n",
    "     \n",
    "        A = np.concatenate([np.array([[p,1]]) for p in p_hat],axis=0)\n",
    "        w = np.diag(1 / Flux_err)\n",
    "        b = Flux\n",
    "        flux_scale, loss_flux, _, _ = np.linalg.lstsq(np.matmul(w,A),np.matmul(w,b))\n",
    "        \n",
    "        A = np.concatenate([np.array([[pi,1]]) for pi in pi_hat],axis=0)\n",
    "        w = np.diag(1 / Pi_err)\n",
    "        b = Pi\n",
    "        res = lsq_linear(np.matmul(w,A), np.matmul(w,b), bounds=[(0.99,-np.inf),(1.01, np.inf)])\n",
    "        pi_offset = res['x'][1]\n",
    "        loss_pi = 2 * res['cost']\n",
    "        \n",
    "        Y = (ratio, ratio_range, pitch, offset, sign, deg, np.rad2deg(axis), flux_scale, pi_offset)\n",
    "        #np.linalg.lstsq(np.matmul(w,A),np.matmul(w,b))\n",
    "        \n",
    "        #loss_flux = np.sum( (Flux - p_hat * max(Flux) / max(p_hat))**2 / Flux_err**2 )\n",
    "        #loss_pi = np.sum((Pi - (pi_hat - abs(max(Pi) - max(pi_hat))) ) **2 / Pi_err**2)\n",
    "        return (delta * loss_pa[0] + delta1 * loss_flux + delta2 * loss_pi, Y) \n",
    "    \n",
    "    n_cpu = os.cpu_count()\n",
    "    print(n_cpu)\n",
    "    chunks = np.array( list(itertools.product(np.linspace(0.001,2.0,10),np.linspace(0.001,0.999,10), np.linspace(-4,4,10),\n",
    "                                    np.linspace(-180,180,10),\n",
    "                                    np.array([-1,1]), np.linspace(deg*0.9,deg*1.1,5))) )\n",
    "    \n",
    "    #remove chunks that have (ratio - ratio_range) > 1\n",
    "    chunks = list(chunks[(chunks[:,0] - chunks[:,1]) <= 1.1])\n",
    "\n",
    "    print(\"STARTING...\")\n",
    "    with mp.Pool(processes=n_cpu) as pool:\n",
    "        results = pool.map(logL, chunks)\n",
    "    print(\"DONE!\")\n",
    "    results.sort()\n",
    "    print(results[0])\n",
    "    final_results.append(results[0:10])"
   ]
  },
  {
   "cell_type": "code",
   "execution_count": 17,
   "metadata": {},
   "outputs": [
    {
     "data": {
      "text/plain": [
       "[[(array([7.56325348]),\n",
       "   (0.6673333333333333,\n",
       "    0.33366666666666667,\n",
       "    -0.44444444444444464,\n",
       "    20.0,\n",
       "    -1.0,\n",
       "    8.076939621133738,\n",
       "    63.1855945913242,\n",
       "    array([1.54726268e-07, 5.35357739e-01]),\n",
       "    -0.4683320839778235)),\n",
       "  (array([7.69296517]),\n",
       "   (0.44522222222222224,\n",
       "    0.11188888888888888,\n",
       "    -0.44444444444444464,\n",
       "    20.0,\n",
       "    -1.0,\n",
       "    8.076939621133738,\n",
       "    63.597977371411474,\n",
       "    array([8.67264326e-08, 5.68523780e-01]),\n",
       "    -0.5292116444787086)),\n",
       "  (array([7.7636774]),\n",
       "   (0.6673333333333333,\n",
       "    0.33366666666666667,\n",
       "    0.44444444444444464,\n",
       "    -180.0,\n",
       "    -1.0,\n",
       "    8.5256584889745,\n",
       "    51.98841081782494,\n",
       "    array([1.62510728e-07, 4.57847876e-01]),\n",
       "    -0.47882227321356213)),\n",
       "  (array([7.7636774]),\n",
       "   (0.6673333333333333,\n",
       "    0.33366666666666667,\n",
       "    0.44444444444444464,\n",
       "    180.0,\n",
       "    -1.0,\n",
       "    8.5256584889745,\n",
       "    51.98841081782493,\n",
       "    array([1.62510728e-07, 4.57847876e-01]),\n",
       "    -0.47882227321356213)),\n",
       "  (array([7.76648951]),\n",
       "   (0.44522222222222224,\n",
       "    0.11188888888888888,\n",
       "    0.44444444444444464,\n",
       "    -180.0,\n",
       "    -1.0,\n",
       "    8.5256584889745,\n",
       "    51.75784310633483,\n",
       "    array([9.30187897e-08, 4.85454150e-01]),\n",
       "    -0.5314779572189454)),\n",
       "  (array([7.76648951]),\n",
       "   (0.44522222222222224,\n",
       "    0.11188888888888888,\n",
       "    0.44444444444444464,\n",
       "    180.0,\n",
       "    -1.0,\n",
       "    8.5256584889745,\n",
       "    51.75784310633481,\n",
       "    array([9.30187897e-08, 4.85454150e-01]),\n",
       "    -0.5314779572189454)),\n",
       "  (array([7.92485918]),\n",
       "   (0.6673333333333333,\n",
       "    0.44455555555555554,\n",
       "    0.44444444444444464,\n",
       "    180.0,\n",
       "    -1.0,\n",
       "    8.5256584889745,\n",
       "    52.343972158243,\n",
       "    array([1.71167259e-07, 3.07641695e-01]),\n",
       "    -0.4885356963482565)),\n",
       "  (array([7.92485918]),\n",
       "   (0.6673333333333333,\n",
       "    0.44455555555555554,\n",
       "    0.44444444444444464,\n",
       "    -180.0,\n",
       "    -1.0,\n",
       "    8.5256584889745,\n",
       "    52.343972158243005,\n",
       "    array([1.71167259e-07, 3.07641695e-01]),\n",
       "    -0.48853569634825655)),\n",
       "  (array([8.11759548]),\n",
       "   (0.6673333333333333,\n",
       "    0.44455555555555554,\n",
       "    -0.44444444444444464,\n",
       "    20.0,\n",
       "    -1.0,\n",
       "    8.076939621133738,\n",
       "    65.1431465976707,\n",
       "    array([1.59117798e-07, 4.03063676e-01]),\n",
       "    -0.4785106145523568)),\n",
       "  (array([8.18143649]),\n",
       "   (0.44522222222222224,\n",
       "    0.11188888888888888,\n",
       "    0.44444444444444464,\n",
       "    180.0,\n",
       "    -1.0,\n",
       "    8.974377356815264,\n",
       "    53.90562878802586,\n",
       "    array([8.95299877e-08, 5.31144391e-01]),\n",
       "    -0.5306319863781177))],\n",
       " [(array([0.1121922]),\n",
       "   (0.44522222222222224,\n",
       "    0.001,\n",
       "    -0.44444444444444464,\n",
       "    -100.0,\n",
       "    1.0,\n",
       "    7.356946468295639,\n",
       "    65.07827070998327,\n",
       "    array([-1.74881297e-08,  5.31243886e-01]),\n",
       "    -0.6564116262913184)),\n",
       "  (array([0.11419399]),\n",
       "   (0.44522222222222224,\n",
       "    0.001,\n",
       "    -0.44444444444444464,\n",
       "    -100.0,\n",
       "    1.0,\n",
       "    6.989099144880858,\n",
       "    71.35009960097838,\n",
       "    array([-1.75218257e-08,  5.30700185e-01]),\n",
       "    -0.6564116616377754)),\n",
       "  (array([0.13706415]),\n",
       "   (0.22311111111111112,\n",
       "    0.001,\n",
       "    1.333333333333333,\n",
       "    60.0,\n",
       "    1.0,\n",
       "    8.092641115125204,\n",
       "    85.56186194357633,\n",
       "    array([-1.30942979e-08,  5.18794179e-01]),\n",
       "    -0.6704053654628369)),\n",
       "  (array([0.14395135]),\n",
       "   (0.44522222222222224,\n",
       "    0.001,\n",
       "    0.44444444444444464,\n",
       "    60.0,\n",
       "    1.0,\n",
       "    8.092641115125204,\n",
       "    80.22643285431502,\n",
       "    array([-1.63613697e-08,  5.32808784e-01]),\n",
       "    -0.6704119509212932)),\n",
       "  (array([0.14646107]),\n",
       "   (0.22311111111111112,\n",
       "    0.001,\n",
       "    -1.3333333333333335,\n",
       "    -100.0,\n",
       "    1.0,\n",
       "    6.989099144880858,\n",
       "    72.46132389764425,\n",
       "    array([-1.48140002e-08,  5.17715231e-01]),\n",
       "    -0.6564039579336549)),\n",
       "  (array([0.1482626]),\n",
       "   (0.44522222222222224,\n",
       "    0.001,\n",
       "    -0.44444444444444464,\n",
       "    -100.0,\n",
       "    1.0,\n",
       "    7.724793791710422,\n",
       "    58.81677132246033,\n",
       "    array([-1.70373847e-08,  5.29736139e-01]),\n",
       "    -0.65641154272791)),\n",
       "  (array([0.15967962]),\n",
       "   (0.44522222222222224,\n",
       "    0.001,\n",
       "    -0.44444444444444464,\n",
       "    -100.0,\n",
       "    1.0,\n",
       "    6.621251821466076,\n",
       "    77.76739917765258,\n",
       "    array([-1.69758137e-08,  5.27413819e-01]),\n",
       "    -0.6704115521294844)),\n",
       "  (array([0.16715739]),\n",
       "   (0.22311111111111112,\n",
       "    0.001,\n",
       "    -1.3333333333333335,\n",
       "    -100.0,\n",
       "    1.0,\n",
       "    6.621251821466076,\n",
       "    79.00976835225627,\n",
       "    array([-1.50205390e-08,  5.16667556e-01]),\n",
       "    -0.670403873461264)),\n",
       "  (array([0.167727]),\n",
       "   (0.22311111111111112,\n",
       "    0.001,\n",
       "    1.333333333333333,\n",
       "    60.0,\n",
       "    1.0,\n",
       "    7.724793791710422,\n",
       "    -88.57094922583725,\n",
       "    array([-1.27582168e-08,  5.15844524e-01]),\n",
       "    -0.6704055535136382)),\n",
       "  (array([0.17150729]),\n",
       "   (0.22311111111111112,\n",
       "    0.001,\n",
       "    -1.3333333333333335,\n",
       "    -100.0,\n",
       "    1.0,\n",
       "    7.356946468295639,\n",
       "    66.02251161226673,\n",
       "    array([-1.42204377e-08,  5.17028451e-01]),\n",
       "    -0.6564037705538555))],\n",
       " [(array([0.34100164]),\n",
       "   (0.6673333333333333,\n",
       "    0.44455555555555554,\n",
       "    -0.44444444444444464,\n",
       "    140.0,\n",
       "    -1.0,\n",
       "    11.518295815142933,\n",
       "    35.59938786510875,\n",
       "    array([ 3.83553207e-07, -2.58199814e-01]),\n",
       "    -0.5038924052735171)),\n",
       "  (array([0.34415618]),\n",
       "   (0.6673333333333333,\n",
       "    0.44455555555555554,\n",
       "    0.44444444444444464,\n",
       "    -20.0,\n",
       "    -1.0,\n",
       "    10.994736914454618,\n",
       "    44.64711273703343,\n",
       "    array([ 3.36611831e-07, -6.55891611e-02]),\n",
       "    -0.48641055880474215)),\n",
       "  (array([0.34907272]),\n",
       "   (0.8894444444444445,\n",
       "    0.6663333333333333,\n",
       "    0.44444444444444464,\n",
       "    -20.0,\n",
       "    -1.0,\n",
       "    10.994736914454618,\n",
       "    44.473815377675095,\n",
       "    array([ 4.30346755e-07, -1.02044698e-01]),\n",
       "    -0.5025973719124889)),\n",
       "  (array([0.34914989]),\n",
       "   (0.001,\n",
       "    0.6663333333333333,\n",
       "    -0.44444444444444464,\n",
       "    140.0,\n",
       "    -1.0,\n",
       "    11.518295815142933,\n",
       "    34.85717376928999,\n",
       "    array([ 5.05296468e-07, -1.15560053e+00]),\n",
       "    -0.4450307477949513)),\n",
       "  (array([0.3558715]),\n",
       "   (1.1115555555555554,\n",
       "    0.8881111111111111,\n",
       "    0.44444444444444464,\n",
       "    -20.0,\n",
       "    -1.0,\n",
       "    10.994736914454618,\n",
       "    44.385564559120176,\n",
       "    array([ 4.99766206e-07, -1.11565088e-01]),\n",
       "    -0.5045718189874335)),\n",
       "  (array([0.35612558]),\n",
       "   (0.44522222222222224,\n",
       "    0.999,\n",
       "    0.44444444444444464,\n",
       "    -20.0,\n",
       "    -1.0,\n",
       "    10.994736914454618,\n",
       "    43.60056899648579,\n",
       "    array([ 5.60071979e-07, -8.52400774e-01]),\n",
       "    -0.48182093132887466)),\n",
       "  (array([0.36203744]),\n",
       "   (0.22311111111111112,\n",
       "    0.7772222222222221,\n",
       "    -0.44444444444444464,\n",
       "    140.0,\n",
       "    -1.0,\n",
       "    11.518295815142933,\n",
       "    34.84869333867798,\n",
       "    array([ 4.83337130e-07, -8.18405697e-01]),\n",
       "    -0.4845943452340121)),\n",
       "  (array([0.36277086]),\n",
       "   (0.001,\n",
       "    0.7772222222222221,\n",
       "    -0.44444444444444464,\n",
       "    140.0,\n",
       "    -1.0,\n",
       "    10.994736914454618,\n",
       "    26.364677117628176,\n",
       "    array([ 7.1752973e-07, -1.4376638e+00]),\n",
       "    -0.43220082716671165)),\n",
       "  (array([0.36358118]),\n",
       "   (0.8894444444444445,\n",
       "    0.6663333333333333,\n",
       "    -0.44444444444444464,\n",
       "    140.0,\n",
       "    -1.0,\n",
       "    11.518295815142933,\n",
       "    35.50497061429702,\n",
       "    array([ 4.85301893e-07, -2.83286125e-01]),\n",
       "    -0.5077364601910912)),\n",
       "  (array([0.3641728]),\n",
       "   (0.44522222222222224,\n",
       "    0.8881111111111111,\n",
       "    0.44444444444444464,\n",
       "    -20.0,\n",
       "    -1.0,\n",
       "    10.994736914454618,\n",
       "    43.84235080439728,\n",
       "    array([ 4.97184956e-07, -1.00600678e+00]),\n",
       "    -0.5008310841301848))]]"
      ]
     },
     "execution_count": 17,
     "metadata": {},
     "output_type": "execute_result"
    }
   ],
   "source": [
    "final_results"
   ]
  },
  {
   "cell_type": "code",
   "execution_count": 10,
   "metadata": {},
   "outputs": [
    {
     "ename": "ValueError",
     "evalue": "setting an array element with a sequence.",
     "output_type": "error",
     "traceback": [
      "\u001b[0;31m---------------------------------------------------------------------------\u001b[0m",
      "\u001b[0;31mValueError\u001b[0m                                Traceback (most recent call last)",
      "\u001b[0;32m<ipython-input-10-8bfe46783938>\u001b[0m in \u001b[0;36m<module>\u001b[0;34m\u001b[0m\n\u001b[0;32m----> 1\u001b[0;31m \u001b[0mplt\u001b[0m\u001b[0;34m.\u001b[0m\u001b[0mhist\u001b[0m\u001b[0;34m(\u001b[0m\u001b[0;34m[\u001b[0m\u001b[0mb\u001b[0m \u001b[0;32mfor\u001b[0m \u001b[0mb\u001b[0m \u001b[0;32min\u001b[0m \u001b[0mresults\u001b[0m\u001b[0;34m[\u001b[0m\u001b[0;34m:\u001b[0m\u001b[0;34m]\u001b[0m\u001b[0;34m]\u001b[0m\u001b[0;34m)\u001b[0m\u001b[0;34m\u001b[0m\u001b[0m\n\u001b[0m",
      "\u001b[0;32m/share/software/user/open/py-matplotlib/2.1.2_py36/lib/python3.6/site-packages/matplotlib/pyplot.py\u001b[0m in \u001b[0;36mhist\u001b[0;34m(x, bins, range, density, weights, cumulative, bottom, histtype, align, orientation, rwidth, log, color, label, stacked, normed, hold, data, **kwargs)\u001b[0m\n\u001b[1;32m   3023\u001b[0m                       \u001b[0mhisttype\u001b[0m\u001b[0;34m=\u001b[0m\u001b[0mhisttype\u001b[0m\u001b[0;34m,\u001b[0m \u001b[0malign\u001b[0m\u001b[0;34m=\u001b[0m\u001b[0malign\u001b[0m\u001b[0;34m,\u001b[0m \u001b[0morientation\u001b[0m\u001b[0;34m=\u001b[0m\u001b[0morientation\u001b[0m\u001b[0;34m,\u001b[0m\u001b[0;34m\u001b[0m\u001b[0m\n\u001b[1;32m   3024\u001b[0m                       \u001b[0mrwidth\u001b[0m\u001b[0;34m=\u001b[0m\u001b[0mrwidth\u001b[0m\u001b[0;34m,\u001b[0m \u001b[0mlog\u001b[0m\u001b[0;34m=\u001b[0m\u001b[0mlog\u001b[0m\u001b[0;34m,\u001b[0m \u001b[0mcolor\u001b[0m\u001b[0;34m=\u001b[0m\u001b[0mcolor\u001b[0m\u001b[0;34m,\u001b[0m \u001b[0mlabel\u001b[0m\u001b[0;34m=\u001b[0m\u001b[0mlabel\u001b[0m\u001b[0;34m,\u001b[0m\u001b[0;34m\u001b[0m\u001b[0m\n\u001b[0;32m-> 3025\u001b[0;31m                       stacked=stacked, normed=normed, data=data, **kwargs)\n\u001b[0m\u001b[1;32m   3026\u001b[0m     \u001b[0;32mfinally\u001b[0m\u001b[0;34m:\u001b[0m\u001b[0;34m\u001b[0m\u001b[0m\n\u001b[1;32m   3027\u001b[0m         \u001b[0max\u001b[0m\u001b[0;34m.\u001b[0m\u001b[0m_hold\u001b[0m \u001b[0;34m=\u001b[0m \u001b[0mwashold\u001b[0m\u001b[0;34m\u001b[0m\u001b[0m\n",
      "\u001b[0;32m/share/software/user/open/py-matplotlib/2.1.2_py36/lib/python3.6/site-packages/matplotlib/__init__.py\u001b[0m in \u001b[0;36minner\u001b[0;34m(ax, *args, **kwargs)\u001b[0m\n\u001b[1;32m   1715\u001b[0m                     warnings.warn(msg % (label_namer, func.__name__),\n\u001b[1;32m   1716\u001b[0m                                   RuntimeWarning, stacklevel=2)\n\u001b[0;32m-> 1717\u001b[0;31m             \u001b[0;32mreturn\u001b[0m \u001b[0mfunc\u001b[0m\u001b[0;34m(\u001b[0m\u001b[0max\u001b[0m\u001b[0;34m,\u001b[0m \u001b[0;34m*\u001b[0m\u001b[0margs\u001b[0m\u001b[0;34m,\u001b[0m \u001b[0;34m**\u001b[0m\u001b[0mkwargs\u001b[0m\u001b[0;34m)\u001b[0m\u001b[0;34m\u001b[0m\u001b[0m\n\u001b[0m\u001b[1;32m   1718\u001b[0m         \u001b[0mpre_doc\u001b[0m \u001b[0;34m=\u001b[0m \u001b[0minner\u001b[0m\u001b[0;34m.\u001b[0m\u001b[0m__doc__\u001b[0m\u001b[0;34m\u001b[0m\u001b[0m\n\u001b[1;32m   1719\u001b[0m         \u001b[0;32mif\u001b[0m \u001b[0mpre_doc\u001b[0m \u001b[0;32mis\u001b[0m \u001b[0;32mNone\u001b[0m\u001b[0;34m:\u001b[0m\u001b[0;34m\u001b[0m\u001b[0m\n",
      "\u001b[0;32m/share/software/user/open/py-matplotlib/2.1.2_py36/lib/python3.6/site-packages/matplotlib/axes/_axes.py\u001b[0m in \u001b[0;36mhist\u001b[0;34m(***failed resolving arguments***)\u001b[0m\n\u001b[1;32m   6147\u001b[0m             \u001b[0;32mfor\u001b[0m \u001b[0mxi\u001b[0m \u001b[0;32min\u001b[0m \u001b[0mx\u001b[0m\u001b[0;34m:\u001b[0m\u001b[0;34m\u001b[0m\u001b[0m\n\u001b[1;32m   6148\u001b[0m                 \u001b[0;32mif\u001b[0m \u001b[0mlen\u001b[0m\u001b[0;34m(\u001b[0m\u001b[0mxi\u001b[0m\u001b[0;34m)\u001b[0m \u001b[0;34m>\u001b[0m \u001b[0;36m0\u001b[0m\u001b[0;34m:\u001b[0m\u001b[0;34m\u001b[0m\u001b[0m\n\u001b[0;32m-> 6149\u001b[0;31m                     \u001b[0mxmin\u001b[0m \u001b[0;34m=\u001b[0m \u001b[0mmin\u001b[0m\u001b[0;34m(\u001b[0m\u001b[0mxmin\u001b[0m\u001b[0;34m,\u001b[0m \u001b[0mxi\u001b[0m\u001b[0;34m.\u001b[0m\u001b[0mmin\u001b[0m\u001b[0;34m(\u001b[0m\u001b[0;34m)\u001b[0m\u001b[0;34m)\u001b[0m\u001b[0;34m\u001b[0m\u001b[0m\n\u001b[0m\u001b[1;32m   6150\u001b[0m                     \u001b[0mxmax\u001b[0m \u001b[0;34m=\u001b[0m \u001b[0mmax\u001b[0m\u001b[0;34m(\u001b[0m\u001b[0mxmax\u001b[0m\u001b[0;34m,\u001b[0m \u001b[0mxi\u001b[0m\u001b[0;34m.\u001b[0m\u001b[0mmax\u001b[0m\u001b[0;34m(\u001b[0m\u001b[0;34m)\u001b[0m\u001b[0;34m)\u001b[0m\u001b[0;34m\u001b[0m\u001b[0m\n\u001b[1;32m   6151\u001b[0m             \u001b[0mbin_range\u001b[0m \u001b[0;34m=\u001b[0m \u001b[0;34m(\u001b[0m\u001b[0mxmin\u001b[0m\u001b[0;34m,\u001b[0m \u001b[0mxmax\u001b[0m\u001b[0;34m)\u001b[0m\u001b[0;34m\u001b[0m\u001b[0m\n",
      "\u001b[0;32m/share/software/user/open/py-matplotlib/2.1.2_py36/lib/python3.6/site-packages/numpy/core/_methods.py\u001b[0m in \u001b[0;36m_amin\u001b[0;34m(a, axis, out, keepdims)\u001b[0m\n\u001b[1;32m     27\u001b[0m \u001b[0;34m\u001b[0m\u001b[0m\n\u001b[1;32m     28\u001b[0m \u001b[0;32mdef\u001b[0m \u001b[0m_amin\u001b[0m\u001b[0;34m(\u001b[0m\u001b[0ma\u001b[0m\u001b[0;34m,\u001b[0m \u001b[0maxis\u001b[0m\u001b[0;34m=\u001b[0m\u001b[0;32mNone\u001b[0m\u001b[0;34m,\u001b[0m \u001b[0mout\u001b[0m\u001b[0;34m=\u001b[0m\u001b[0;32mNone\u001b[0m\u001b[0;34m,\u001b[0m \u001b[0mkeepdims\u001b[0m\u001b[0;34m=\u001b[0m\u001b[0;32mFalse\u001b[0m\u001b[0;34m)\u001b[0m\u001b[0;34m:\u001b[0m\u001b[0;34m\u001b[0m\u001b[0m\n\u001b[0;32m---> 29\u001b[0;31m     \u001b[0;32mreturn\u001b[0m \u001b[0mumr_minimum\u001b[0m\u001b[0;34m(\u001b[0m\u001b[0ma\u001b[0m\u001b[0;34m,\u001b[0m \u001b[0maxis\u001b[0m\u001b[0;34m,\u001b[0m \u001b[0;32mNone\u001b[0m\u001b[0;34m,\u001b[0m \u001b[0mout\u001b[0m\u001b[0;34m,\u001b[0m \u001b[0mkeepdims\u001b[0m\u001b[0;34m)\u001b[0m\u001b[0;34m\u001b[0m\u001b[0m\n\u001b[0m\u001b[1;32m     30\u001b[0m \u001b[0;34m\u001b[0m\u001b[0m\n\u001b[1;32m     31\u001b[0m \u001b[0;32mdef\u001b[0m \u001b[0m_sum\u001b[0m\u001b[0;34m(\u001b[0m\u001b[0ma\u001b[0m\u001b[0;34m,\u001b[0m \u001b[0maxis\u001b[0m\u001b[0;34m=\u001b[0m\u001b[0;32mNone\u001b[0m\u001b[0;34m,\u001b[0m \u001b[0mdtype\u001b[0m\u001b[0;34m=\u001b[0m\u001b[0;32mNone\u001b[0m\u001b[0;34m,\u001b[0m \u001b[0mout\u001b[0m\u001b[0;34m=\u001b[0m\u001b[0;32mNone\u001b[0m\u001b[0;34m,\u001b[0m \u001b[0mkeepdims\u001b[0m\u001b[0;34m=\u001b[0m\u001b[0;32mFalse\u001b[0m\u001b[0;34m)\u001b[0m\u001b[0;34m:\u001b[0m\u001b[0;34m\u001b[0m\u001b[0m\n",
      "\u001b[0;31mValueError\u001b[0m: setting an array element with a sequence."
     ]
    },
    {
     "data": {
      "image/png": "[encoded data removed]",
      "text/plain": [
       "<matplotlib.figure.Figure at 0x7fd3433c7160>"
      ]
     },
     "metadata": {
      "needs_background": "light"
     },
     "output_type": "display_data"
    }
   ],
   "source": [
    "plt.hist([b for b in results[:]])"
   ]
  },
  {
   "cell_type": "code",
   "execution_count": 90,
   "metadata": {},
   "outputs": [
    {
     "data": {
      "text/plain": [
       "1.06"
      ]
     },
     "execution_count": 90,
     "metadata": {},
     "output_type": "execute_result"
    }
   ],
   "source": [
    "float(measured.loc[:,' gamma'][5])"
   ]
  },
  {
   "cell_type": "code",
   "execution_count": 13,
   "metadata": {
    "collapsed": true
   },
   "outputs": [],
   "source": [
    "x0 = list(results[20][1])"
   ]
  },
  {
   "cell_type": "code",
   "execution_count": 14,
   "metadata": {},
   "outputs": [
    {
     "data": {
      "text/plain": [
       "array([-2.49282016e-05,  4.50401564e+01])"
      ]
     },
     "execution_count": 14,
     "metadata": {},
     "output_type": "execute_result"
    }
   ],
   "source": [
    "x0[7]"
   ]
  },
  {
   "cell_type": "code",
   "execution_count": 99,
   "metadata": {},
   "outputs": [
    {
     "data": {
      "text/plain": [
       "10"
      ]
     },
     "execution_count": 99,
     "metadata": {},
     "output_type": "execute_result"
    }
   ],
   "source": [
    "len(measured)"
   ]
  },
  {
   "cell_type": "code",
   "execution_count": 16,
   "metadata": {},
   "outputs": [
    {
     "data": {
      "image/png": "[encoded data removed]",
      "text/plain": [
       "<matplotlib.figure.Figure at 0x7f03bef78860>"
      ]
     },
     "metadata": {
      "needs_background": "light"
     },
     "output_type": "display_data"
    }
   ],
   "source": [
    "plt.figure(figsize=(14,10))\n",
    "rows = len(final_results)\n",
    "for i,result in enumerate(final_results):\n",
    "    datum = data[i]\n",
    "    Day = datum[:,0]\n",
    "    Flux = datum[:,5]; Flux_err = datum[:,6]\n",
    "    PA = datum[:,3]; PA_err = datum[:,4]\n",
    "    Pi = datum[:,1] / 100; Pi_err = datum[:,2] / 100\n",
    "    deg = abs(max(PA) - min(PA)) / abs(max(Day) - min(Day))\n",
    "    \n",
    "    x0 = list(result[0][1])\n",
    "    x = np.linspace(Day[0],Day[-1],100)\n",
    "    pi_hat, pa_hat, p_hat = Jet(x, x0[0], x0[1], pitch=x0[2], offset=x0[3], deg=x0[5], sign=x0[4], axis=x0[6], alpha=2, Gamma=10)\n",
    "    plt.subplot(rows,3, 3*i + 1  ) \n",
    "    plt.title(blazars[i].replace(\".dat\",\"\"))\n",
    "    plt.ylabel(r\"$\\Pi$\")\n",
    "    plt.plot(x,pi_hat + x0[8])\n",
    "    plt.errorbar(Day,Pi,yerr=Pi_err,c='r',fmt='o')\n",
    "    \n",
    "    plt.subplot(rows,3, 3*i + 2)\n",
    "    try:\n",
    "        plt.title(\"Axis: {:.1f}, {:.1f}\".format(float(measured.loc[:,' PA'][i]),x0[6]))\n",
    "    except ValueError:\n",
    "        plt.title(\"Axis: None, {:.1f}\".format(x0[5]))\n",
    "    plt.ylabel(r\"$\\theta_{PA}$\")\n",
    "    plt.plot(x,pa_hat)\n",
    "    plt.plot(x,pa_hat-180)\n",
    "    plt.plot(x,pa_hat+180)\n",
    "    plt.plot(x,pa_hat-360)\n",
    "    plt.plot(x,pa_hat+360)\n",
    "    plt.plot(x,pa_hat-540)\n",
    "    plt.plot(x,pa_hat+540)\n",
    "    plt.ylim(min(PA) - 20, max(PA) + 20)\n",
    "    plt.errorbar(Day,PA,yerr=PA_err,c='r',fmt='o')\n",
    "    \n",
    "    plt.subplot(rows,3, 3*i + 3)\n",
    "    try:\n",
    "        plt.title(r\"$\\Gamma\\theta$: {:.1f}, {:.1f}\".format(float(measured.loc[:,' gamma'][i]) * \n",
    "                                          np.deg2rad(float(measured.loc[:,' theta'][i])) , x0[0]))\n",
    "    except:\n",
    "        plt.title(\"$\\Gamma\\theta$: None, {:.1f}\".format(x0[0]))\n",
    "    plt.ylabel(r\"$Flux$\")\n",
    "    plt.plot(x,p_hat * x0[7][0] + x0[7][1])\n",
    "    plt.errorbar(Day,Flux,yerr=Flux_err,c='r',fmt='o')"
   ]
  },
  {
   "cell_type": "code",
   "execution_count": 1171,
   "metadata": {
    "collapsed": true
   },
   "outputs": [],
   "source": [
    "def Jet(day, ratio, ratio_range, pitch, offset, deg, alpha, Gamma):\n",
    "    \"\"\"Helical jet of jets\n",
    "    \n",
    "    Args:\n",
    "        day: \n",
    "        ratio: Gamma*theta of the jet centre.\n",
    "        ratio_range: Opening angle of the jet.\n",
    "        pitch: Magnetic Helix pitch angle.\n",
    "        offset: In degrees.\n",
    "        deg: Conversion from day to degrees.\n",
    "        alpha: electron power law.\n",
    "      \n",
    "    Returns:\n",
    "        Pi:\n",
    "        PA:\n",
    "        P:\n",
    "    \n",
    "    Raises:\n",
    "        ValueError: Opening angle of jet too large.\n",
    "    \"\"\"\n",
    "    if ratio_range > 1:\n",
    "        raise ValueError(\"Jet opening angle can't be greater than 1/Gamma in Lab frame\")\n",
    "        \n",
    "    day = day - np.min(day)\n",
    "    B_orig = Bhelix((day*deg + offset) * np.pi/180, pitch)\n",
    "    #Build jet of jets in multiple circles:\n",
    "    coords = np.concatenate([pcircle(ratio, ratio_range, 30),pcircle(ratio, 5*ratio_range/6, 24), \n",
    "                             pcircle(ratio, 4*ratio_range/6, 18), pcircle(ratio, 3*ratio_range/6, 12),\n",
    "                             pcircle(ratio, 2*ratio_range/6, 6), pcircle(ratio, 1*ratio_range/6, 2)],axis=1)\n",
    "    #coords = np.expand_dims(np.array([ratio,0]),axis=1)\n",
    "    theta_rot = np.arccos((1 - coords[0,:]**2) / (1 + coords[0,:]**2))\n",
    "    x0,y0 = np.meshgrid(np.transpose(B_orig)[:,0],np.stack([-np.sin(coords[1,:]),np.cos(coords[1,:]),np.zeros(len(coords[1,:]))],axis=1)[:,0])\n",
    "    x1,y1 = np.meshgrid(np.transpose(B_orig)[:,1],np.stack([-np.sin(coords[1,:]),np.cos(coords[1,:]),np.zeros(len(coords[1,:]))],axis=1)[:,1])\n",
    "    x2,y2 = np.meshgrid(np.transpose(B_orig)[:,2],np.stack([-np.sin(coords[1,:]),np.cos(coords[1,:]),np.zeros(len(coords[1,:]))],axis=1)[:,2])\n",
    "    _, th = np.meshgrid(np.transpose(B_orig)[:,2], theta_rot)\n",
    "    B_mesh = np.stack([x0,x1,x2],axis=2)\n",
    "    axis_mesh = np.stack([y0,y1,y2],axis=2)\n",
    "    \n",
    "    B = rotate(th, B_mesh, axis_mesh)\n",
    "    #B shape = (coords,days,3)\n",
    "    Btheta = np.arctan2(np.sqrt(np.sum(B[:,:,:2]**2,axis=2)), B[:,:,2])\n",
    "    weights = (Dapprox(Gamma,coords[0,:])**4 * flux_weight(Btheta, alpha).T).T #broadcast\n",
    "    \n",
    "    vec = B[:,:,:2][:,:,::-1]\n",
    "    vec[:,:,1] *= -1\n",
    "    PA = np.arctan2(vec[:,:,1],vec[:,:,0])\n",
    "    S1 = np.sum(weights * np.cos(2 * PA),axis=0)\n",
    "    S2 = np.sum(weights * np.sin(2 * PA),axis=0)\n",
    "    Pi = np.sqrt((0.7*S1)**2 + (0.7*S2)**2) / np.sum(weights,axis=0)\n",
    "    PA = np.rad2deg(np.arctan2(S2,S1) / 2 ) - 110 #jet axis\n",
    "    P = np.sum(weights, axis=0)\n",
    "    \n",
    "    return Pi, PA, P"
   ]
  },
  {
   "cell_type": "code",
   "execution_count": 920,
   "metadata": {},
   "outputs": [
    {
     "data": {
      "text/plain": [
       "array([[3, 2, 1],\n",
       "       [6, 5, 4]])"
      ]
     },
     "execution_count": 920,
     "metadata": {},
     "output_type": "execute_result"
    }
   ],
   "source": [
    "x = np.array([[1,2,3],[4,5,6]])\n",
    "x[:,::-1]"
   ]
  },
  {
   "cell_type": "code",
   "execution_count": 921,
   "metadata": {
    "collapsed": true
   },
   "outputs": [],
   "source": [
    "D = lambda Gamma, theta: 1 / (Gamma * (1 - np.sqrt(1-1/Gamma**2)*np.cos(np.deg2rad(theta))))\n",
    "Dapprox = lambda Gamma, ratio: 2 * Gamma / (1 + ratio**2)"
   ]
  },
  {
   "cell_type": "code",
   "execution_count": 741,
   "metadata": {},
   "outputs": [
    {
     "name": "stdout",
     "output_type": "stream",
     "text": [
      "6.804705917320545 6.78069194269854\n"
     ]
    }
   ],
   "source": [
    "print(D(10,8),Dapprox(10,10*np.deg2rad(8)))"
   ]
  },
  {
   "cell_type": "code",
   "execution_count": null,
   "metadata": {
    "collapsed": true
   },
   "outputs": [],
   "source": [
    "1 / Gamma * (1 - (1 - 1/(2*Gamma**2)) * (1 - theta**2/2))\n",
    "2 / Gamma * (1/(Gamma**2) + theta**2)\n",
    "2 / (1/(Gamma) + Gamma*theta**2)"
   ]
  },
  {
   "cell_type": "code",
   "execution_count": null,
   "metadata": {
    "collapsed": true
   },
   "outputs": [],
   "source": []
  },
  {
   "cell_type": "code",
   "execution_count": 692,
   "metadata": {},
   "outputs": [
    {
     "data": {
      "text/plain": [
       "12.156067203699143"
      ]
     },
     "execution_count": 692,
     "metadata": {},
     "output_type": "execute_result"
    }
   ],
   "source": [
    "D(20,1)**4 / D(20,3)**4"
   ]
  },
  {
   "cell_type": "code",
   "execution_count": 890,
   "metadata": {
    "collapsed": true
   },
   "outputs": [],
   "source": [
    "def F_flux(day,ratio,slope):\n",
    "    offset = 5\n",
    "    day = day - min(Flux[:,0])\n",
    "    beta = np.sqrt(1-1/Gamma**2)\n",
    "    theta_rot = np.arccos((1 - ratio**2) / (1 + ratio**2))\n",
    "    B_orig = Bhelix((day*deg + offset) * np.pi/180, slope)\n",
    "    R2 = Rot(theta_rot)\n",
    "    #B_orig = np.matmul(R1,B_orig)\n",
    "    B = np.matmul(R2,B_orig)\n",
    "    Btheta = np.arctan2(np.sqrt(np.sum(B[:2]**2,axis=0)), B[2])\n",
    "    return flux_weight(Btheta,2) * 2.2"
   ]
  },
  {
   "cell_type": "code",
   "execution_count": 901,
   "metadata": {
    "collapsed": true
   },
   "outputs": [],
   "source": [
    "def F(day,ratio,slope,up=None):\n",
    "    offset = 0\n",
    "    day = day - min(PA[:,0])\n",
    "    #beta = np.sqrt(1-1/Gamma**2)\n",
    "    theta_rot = np.arccos((1 - ratio**2) / (1 + ratio**2))\n",
    "    B_orig = Bhelix((day*deg + offset) * np.pi/180, slope)\n",
    "    R2 = Rot(theta_rot)\n",
    "    #B_orig = np.matmul(R1,B_orig)\n",
    "    B = np.matmul(R2,B_orig)\n",
    "    print(B)\n",
    "    if up is not None:\n",
    "        if up == 1:\n",
    "            B = np.matmul(RotX(0),B)\n",
    "        else:\n",
    "            B = np.matmul(RotX(-0),B)\n",
    "            \n",
    "    vec = np.matmul(np.array([[0,1],[-1,0]]),B[:2])\n",
    "    #print(vec)\n",
    "    return np.rad2deg(np.arctan2(vec[1,:],vec[0,:])) - 110"
   ]
  },
  {
   "cell_type": "code",
   "execution_count": 686,
   "metadata": {
    "collapsed": true
   },
   "outputs": [],
   "source": [
    "slope = 0.2\n",
    "S2 = np.sin(2 * np.deg2rad(F(PA[:,0],0.7,slope))) + np.sin(2 * np.deg2rad(F(PA[:,0],0.6,slope))) \\\n",
    "+ np.sin(2 * np.deg2rad(F(PA[:,0],0.8,slope))) + np.sin(2 * np.deg2rad(F(PA[:,0],0.5,slope))) \\\n",
    "+ np.sin(2 * np.deg2rad(F(PA[:,0],0.6,slope,up=1))) + np.sin(2 * np.deg2rad(F(PA[:,0],0.7,slope,up=0)))\n",
    "S1 = np.cos(2 * np.deg2rad(F(PA[:,0],0.7,slope))) + np.cos(2 * np.deg2rad(F(PA[:,0],0.6,slope))) \\\n",
    "+ np.cos(2 * np.deg2rad(F(PA[:,0],0.8,slope))) + np.cos(2 * np.deg2rad(F(PA[:,0],0.5,slope))) \\\n",
    "+ np.cos(2 * np.deg2rad(F(PA[:,0],0.6,slope,up=1))) + np.cos(2 * np.deg2rad(F(PA[:,0],0.7,slope,up=0)))\n",
    "pi_hat = np.sqrt((0.7*S1)**2 + (0.7*S2)**2) / 6\n",
    "PA_hat = np.rad2deg(np.arctan2(S2,S1) / 2 )"
   ]
  },
  {
   "cell_type": "code",
   "execution_count": 672,
   "metadata": {},
   "outputs": [
    {
     "name": "stdout",
     "output_type": "stream",
     "text": [
      "(3, 17)\n"
     ]
    },
    {
     "data": {
      "text/plain": [
       "<matplotlib.collections.PathCollection at 0x11f66c470>"
      ]
     },
     "execution_count": 672,
     "metadata": {},
     "output_type": "execute_result"
    },
    {
     "data": {
      "image/png": "[encoded data removed]",
      "text/plain": [
       "<Figure size 432x288 with 1 Axes>"
      ]
     },
     "metadata": {
      "needs_background": "light"
     },
     "output_type": "display_data"
    }
   ],
   "source": [
    "B_orig = Bhelix(((PA[:,0] - min(PA[:,0]))*deg + 5) * np.pi/180, 0.08)\n",
    "print(B_orig.shape)\n",
    "plt.scatter(B_orig[0,:],B_orig[1,:])"
   ]
  },
  {
   "cell_type": "code",
   "execution_count": 687,
   "metadata": {},
   "outputs": [
    {
     "data": {
      "text/plain": [
       "[<matplotlib.lines.Line2D at 0x11fc34c88>]"
      ]
     },
     "execution_count": 687,
     "metadata": {},
     "output_type": "execute_result"
    },
    {
     "data": {
      "image/png": "[encoded data removed]",
      "text/plain": [
       "<Figure size 432x288 with 1 Axes>"
      ]
     },
     "metadata": {
      "needs_background": "light"
     },
     "output_type": "display_data"
    }
   ],
   "source": [
    "plt.plot(PA[:,0],pi_hat, 'r')"
   ]
  },
  {
   "cell_type": "code",
   "execution_count": 543,
   "metadata": {
    "collapsed": true
   },
   "outputs": [],
   "source": [
    "logL = lambda ratio: - np.sum((PA[:,1] - F(PA[:,0],ratio,0.05))**2)"
   ]
  },
  {
   "cell_type": "code",
   "execution_count": 902,
   "metadata": {},
   "outputs": [
    {
     "name": "stdout",
     "output_type": "stream",
     "text": [
      "[[ 0.33845887  0.34225615  0.33710611  0.20477045  0.15789304  0.10688798\n",
      "   0.05308863 -0.00209856 -0.0572309  -0.11086709 -0.14509821 -0.20811818\n",
      "  -0.23617392 -0.30271468 -0.32450288 -0.33780789 -0.34228188]\n",
      " [-0.14904227  0.01226196  0.17324563  0.80130884  0.88724664  0.94998992\n",
      "   0.98789845  0.9999812   0.98592232  0.94608933  0.90570226  0.79391286\n",
      "   0.72381096  0.46672648  0.31809917  0.16115606  0.        ]\n",
      " [-0.92910279 -0.93952668 -0.92538933 -0.56211495 -0.43343188 -0.29341797\n",
      "  -0.1457335   0.00576076  0.15710442  0.30434104  0.39830882  0.57130481\n",
      "   0.64832058  0.83098148  0.89079223  0.92731578  0.93959732]]\n"
     ]
    },
    {
     "data": {
      "text/plain": [
       "<matplotlib.collections.PathCollection at 0x12741cb70>"
      ]
     },
     "execution_count": 902,
     "metadata": {},
     "output_type": "execute_result"
    },
    {
     "data": {
      "image/png": "[encoded data removed]",
      "text/plain": [
       "<Figure size 648x288 with 2 Axes>"
      ]
     },
     "metadata": {
      "needs_background": "light"
     },
     "output_type": "display_data"
    }
   ],
   "source": [
    "plt.figure(figsize=(9,4))\n",
    "plt.subplot(121)\n",
    "plt.plot(PA[:,0],F(PA[:,0],0.7,0.0), 'r')\n",
    "#plt.plot(PA[:,0],F(PA[:,0],0.6,0.08), 'r')\n",
    "#plt.plot(PA[:,0],F(PA[:,0],0.8,0.08), 'r')\n",
    "#plt.plot(PA[:,0],F(PA[:,0],0.5,0.08), 'r')\n",
    "#plt.plot(PA[:,0],F(PA[:,0],0.4,0.08), 'r')\n",
    "#plt.plot(PA[:,0],F(PA[:,0],0.6,0.08,up=1), 'g')\n",
    "#plt.plot(PA[:,0],F(PA[:,0],0.7,0.08,up=0), 'g')\n",
    "\n",
    "\n",
    "plt.scatter(PA[:,0],PA[:,1])\n",
    "plt.subplot(122)\n",
    "plt.plot(np.sort(Flux[:,0]),F_flux(np.sort(Flux[:,0]),0.7,0.0), 'r')\n",
    "# plt.plot(np.sort(Flux[:,0]),F_flux(np.sort(Flux[:,0]),0.6,-0.05), 'r')\n",
    "# plt.plot(np.sort(Flux[:,0]),F_flux(np.sort(Flux[:,0]),0.8,-0.05), 'r')\n",
    "# plt.plot(np.sort(Flux[:,0]),F_flux(np.sort(Flux[:,0]),0.5,-0.05), 'r')\n",
    "# plt.plot(np.sort(Flux[:,0]),F_flux(np.sort(Flux[:,0]),0.4,-0.05), 'r')\n",
    "plt.scatter(Flux[:,0],Flux[:,1])"
   ]
  },
  {
   "cell_type": "code",
   "execution_count": 492,
   "metadata": {},
   "outputs": [
    {
     "data": {
      "text/plain": [
       "array([586.55172414, 587.5862069 , 588.62068966, 589.65517241,\n",
       "       591.37931034, 592.4137931 , 593.44827586, 594.48275862,\n",
       "       595.51724138, 595.51724138, 595.51724138, 596.55172414,\n",
       "       597.5862069 , 598.62068966, 599.65517241, 600.68965517,\n",
       "       605.86206897, 606.55172414, 607.5862069 ])"
      ]
     },
     "execution_count": 492,
     "metadata": {},
     "output_type": "execute_result"
    }
   ],
   "source": [
    "np.sort(Flux[:,0])"
   ]
  },
  {
   "cell_type": "code",
   "execution_count": 299,
   "metadata": {
    "collapsed": true
   },
   "outputs": [],
   "source": [
    "B_orig = np.transpose(helix)\n",
    "B_orig = np.matmul(R1,B_orig)\n",
    "B = np.matmul(R2,B_orig)\n",
    "vecs = np.matmul(np.array([[0,1],[-1,0]]),B[:2])\n",
    "Btheta = np.arctan2(np.sqrt(np.sum(B[:2]**2,axis=0)), B[2])"
   ]
  },
  {
   "cell_type": "code",
   "execution_count": 300,
   "metadata": {
    "collapsed": true
   },
   "outputs": [],
   "source": [
    "PA_hat = np.arctan2(vecs[1,:],vecs[0,:])\n",
    "Flux_hat = flux_weight(Btheta)"
   ]
  },
  {
   "cell_type": "code",
   "execution_count": 301,
   "metadata": {},
   "outputs": [
    {
     "data": {
      "text/plain": [
       "[<matplotlib.lines.Line2D at 0x1146ae3c8>]"
      ]
     },
     "execution_count": 301,
     "metadata": {},
     "output_type": "execute_result"
    },
    {
     "data": {
      "image/png": "[encoded data removed]",
      "text/plain": [
       "<Figure size 432x288 with 2 Axes>"
      ]
     },
     "metadata": {
      "needs_background": "light"
     },
     "output_type": "display_data"
    }
   ],
   "source": [
    "plt.subplot(121)\n",
    "plt.plot(np.flip(PA_hat))\n",
    "plt.subplot(122)\n",
    "plt.plot(np.flip(Flux_hat))"
   ]
  },
  {
   "cell_type": "code",
   "execution_count": 78,
   "metadata": {},
   "outputs": [
    {
     "data": {
      "text/plain": [
       "(22, 2)"
      ]
     },
     "execution_count": 78,
     "metadata": {},
     "output_type": "execute_result"
    }
   ],
   "source": [
    "np.transpose(np.matmul(R,np.transpose(helix))[:2]).shape"
   ]
  },
  {
   "cell_type": "code",
   "execution_count": 44,
   "metadata": {},
   "outputs": [
    {
     "data": {
      "text/plain": [
       "[<matplotlib.lines.Line2D at 0x1126a00f0>]"
      ]
     },
     "execution_count": 44,
     "metadata": {},
     "output_type": "execute_result"
    },
    {
     "data": {
      "image/png": "[encoded data removed]",
      "text/plain": [
       "<Figure size 432x288 with 1 Axes>"
      ]
     },
     "metadata": {
      "needs_background": "light"
     },
     "output_type": "display_data"
    }
   ],
   "source": [
    "plt.plot([x for x in np.linspace(0,2*np.pi,50)],flux_weight([x for x in np.linspace(0,np.pi,50)]))"
   ]
  },
  {
   "cell_type": "code",
   "execution_count": null,
   "metadata": {
    "collapsed": true
   },
   "outputs": [],
   "source": []
  }
 ],
 "metadata": {
  "kernelspec": {
   "display_name": "Python 3",
   "language": "python",
   "name": "python3"
  },
  "language_info": {
   "codemirror_mode": {
    "name": "ipython",
    "version": 2
   },
   "file_extension": ".py",
   "mimetype": "text/x-python",
   "name": "python",
   "nbconvert_exporter": "python",
   "pygments_lexer": "ipython2",
   "version": "2.7.13"
  }
 },
 "nbformat": 4,
 "nbformat_minor": 2
}
